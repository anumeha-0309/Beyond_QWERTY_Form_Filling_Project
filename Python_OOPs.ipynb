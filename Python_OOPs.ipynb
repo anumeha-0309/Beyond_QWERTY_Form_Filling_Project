{
  "nbformat": 4,
  "nbformat_minor": 0,
  "metadata": {
    "colab": {
      "provenance": [],
      "authorship_tag": "ABX9TyNlVlAH2abK00sEshpNwroq",
      "include_colab_link": true
    },
    "kernelspec": {
      "name": "python3",
      "display_name": "Python 3"
    },
    "language_info": {
      "name": "python"
    }
  },
  "cells": [
    {
      "cell_type": "markdown",
      "metadata": {
        "id": "view-in-github",
        "colab_type": "text"
      },
      "source": [
        "<a href=\"https://colab.research.google.com/github/anumeha-0309/Infosys-Project-and-Tasks/blob/main/Python_OOPs.ipynb\" target=\"_parent\"><img src=\"https://colab.research.google.com/assets/colab-badge.svg\" alt=\"Open In Colab\"/></a>"
      ]
    },
    {
      "cell_type": "markdown",
      "source": [
        "Python OOPs Concepts:\n",
        "Object-Oriented Programming (OOP) in Python is a programming paradigm that uses classes and objects to organize and structure code, enabling features like encapsulation, inheritance, polymorphism, and abstraction.\n",
        "\n",
        "OOPs Concepts in Python:\n",
        "1. Class in Python\n",
        "2. Objects in Python\n",
        "3. Polymorphism in Python\n",
        "4. Encapsulation in Python\n",
        "5. Inheritance in Python\n",
        "6. Data Abstraction in Python\n"
      ],
      "metadata": {
        "id": "kxzmZNAr9yYV"
      }
    },
    {
      "cell_type": "markdown",
      "source": [
        "Python Class:\n",
        "A class is a collection of objects. Classes are blueprints for creating objects. A class defines a set of attributes and methods that the created objects can have.\n",
        "\n",
        "Some points on Python class:  \n",
        "1. Classes are created by keyword class.\n",
        "2. Attributes are the variables that belong to a class.\n",
        "3. Attributes are always public and can be accessed using the dot (.) operator. Example: Myclass.Myattribute\n"
      ],
      "metadata": {
        "id": "e2MWjt_B-DF0"
      }
    },
    {
      "cell_type": "code",
      "source": [
        "class Dog:\n",
        "    species = \"Canine\"  # Class attribute\n",
        "\n",
        "    def __init__(self, name, age):\n",
        "        self.name = name  # Instance attribute\n",
        "        self.age = age  # Instance attribute"
      ],
      "metadata": {
        "id": "-_fyikWZ-r38"
      },
      "execution_count": null,
      "outputs": []
    },
    {
      "cell_type": "markdown",
      "source": [
        "Python Objects:\n",
        "An Object is an instance of a Class. It represents a specific implementation of the class and holds its own data.\n",
        "\n",
        "An object consists of:\n",
        "1. State: It is represented by the attributes and reflects the properties of an object.\n",
        "2. Behavior: It is represented by the methods of an object and reflects the response of an object to other objects.\n",
        "3. Identity: It gives a unique name to an object and enables one object to interact with other objects."
      ],
      "metadata": {
        "id": "ggiJ4lZs9aLa"
      }
    },
    {
      "cell_type": "code",
      "source": [
        "class Dog:\n",
        "    species = \"Canine\"  # Class attribute\n",
        "\n",
        "    def __init__(self, name, age):\n",
        "        self.name = name  # Instance attribute\n",
        "        self.age = age  # Instance attribute\n",
        "\n",
        "# Creating an object of the Dog class\n",
        "dog1 = Dog(\"Buddy\", 3)\n",
        "\n",
        "print(dog1.name)\n",
        "print(dog1.species)"
      ],
      "metadata": {
        "id": "LQHPO_uP-61f"
      },
      "execution_count": null,
      "outputs": []
    },
    {
      "cell_type": "markdown",
      "source": [
        "Python Inheritance:\n",
        "Inheritance allows a class (child class) to acquire properties and methods of another class (parent class). It supports hierarchical classification and promotes code reuse.\n",
        "\n",
        "Types of Inheritance:\n",
        "1. Single Inheritance: A child class inherits from a single parent class.\n",
        "2. Multiple Inheritance: A child class inherits from more than one parent class.\n",
        "3. Multilevel Inheritance: A child class inherits from a parent class, which in turn inherits from another class.\n",
        "4. Hierarchical Inheritance: Multiple child classes inherit from a single parent class.\n",
        "5. Hybrid Inheritance: A combination of two or more types of inheritance.\n",
        "\n",
        "\n"
      ],
      "metadata": {
        "id": "aTJriMdR_BPH"
      }
    },
    {
      "cell_type": "code",
      "source": [
        "# Single Inheritance\n",
        "class Dog:\n",
        "    def __init__(self, name):\n",
        "        self.name = name\n",
        "\n",
        "    def display_name(self):\n",
        "        print(f\"Dog's Name: {self.name}\")\n",
        "\n",
        "class Labrador(Dog):  # Single Inheritance\n",
        "    def sound(self):\n",
        "        print(\"Labrador woofs\")\n",
        "\n",
        "# Multilevel Inheritance\n",
        "class GuideDog(Labrador):  # Multilevel Inheritance\n",
        "    def guide(self):\n",
        "        print(f\"{self.name}Guides the way!\")\n",
        "\n",
        "# Multiple Inheritance\n",
        "class Friendly:\n",
        "    def greet(self):\n",
        "        print(\"Friendly!\")\n",
        "\n",
        "class GoldenRetriever(Dog, Friendly):  # Multiple Inheritance\n",
        "    def sound(self):\n",
        "        print(\"Golden Retriever Barks\")\n",
        "\n",
        "# Example Usage\n",
        "lab = Labrador(\"Buddy\")\n",
        "lab.display_name()\n",
        "lab.sound()\n",
        "\n",
        "guide_dog = GuideDog(\"Max\")\n",
        "guide_dog.display_name()\n",
        "guide_dog.guide()\n",
        "\n",
        "retriever = GoldenRetriever(\"Charlie\")\n",
        "retriever.display_name()\n",
        "retriever.greet()\n",
        "retriever.sound()"
      ],
      "metadata": {
        "id": "PS0R7p_j_d1z"
      },
      "execution_count": null,
      "outputs": []
    },
    {
      "cell_type": "markdown",
      "source": [
        "Python Polymorphism:\n",
        "Polymorphism allows methods to have the same name but behave differently based on the object’s context. It can be achieved through method overriding or overloading.\n",
        "\n",
        "Types of Polymorphism\n",
        "1. Compile-Time Polymorphism: This type of polymorphism is determined during the compilation of the program. It allows methods or operators with the same name to behave differently based on their input parameters or usage. It is commonly referred to as method or operator overloading.\n",
        "\n",
        "2. Run-Time Polymorphism: This type of polymorphism is determined during the execution of the program. It occurs when a subclass provides a specific implementation for a method already defined in its parent class, commonly known as method overriding."
      ],
      "metadata": {
        "id": "MIPJlJE2_fhF"
      }
    },
    {
      "cell_type": "code",
      "source": [
        "# Parent Class\n",
        "class Dog:\n",
        "    def sound(self):\n",
        "        print(\"dog sound\")  # Default implementation\n",
        "\n",
        "# Run-Time Polymorphism: Method Overriding\n",
        "class Labrador(Dog):\n",
        "    def sound(self):\n",
        "        print(\"Labrador woofs\")  # Overriding parent method\n",
        "\n",
        "class Beagle(Dog):\n",
        "    def sound(self):\n",
        "        print(\"Beagle Barks\")  # Overriding parent method\n",
        "\n",
        "# Compile-Time Polymorphism: Method Overloading Mimic\n",
        "class Calculator:\n",
        "    def add(self, a, b=0, c=0):\n",
        "        return a + b + c  # Supports multiple ways to call add()\n",
        "\n",
        "# Run-Time Polymorphism\n",
        "dogs = [Dog(), Labrador(), Beagle()]\n",
        "for dog in dogs:\n",
        "    dog.sound()  # Calls the appropriate method based on the object type\n",
        "\n",
        "\n",
        "# Compile-Time Polymorphism (Mimicked using default arguments)\n",
        "calc = Calculator()\n",
        "print(calc.add(5, 10))  # Two arguments\n",
        "print(calc.add(5, 10, 15))  # Three arguments"
      ],
      "metadata": {
        "id": "BWKhDUT3_nn0"
      },
      "execution_count": null,
      "outputs": []
    },
    {
      "cell_type": "markdown",
      "source": [
        "Encapsulation:\n",
        "Encapsulation is the bundling of data (attributes) and methods (functions) within a class, restricting access to some components to control interactions.\n",
        "\n",
        "Types of Encapsulation:\n",
        "1. Public Members: Accessible from anywhere.\n",
        "2. Protected Members: Accessible within the class and its subclasses.\n",
        "3. Private Members: Accessible only within the class.\n"
      ],
      "metadata": {
        "id": "paAY5G85_piP"
      }
    },
    {
      "cell_type": "code",
      "source": [
        "class Dog:\n",
        "    def __init__(self, name, breed, age):\n",
        "        self.name = name  # Public attribute\n",
        "        self._breed = breed  # Protected attribute\n",
        "        self.__age = age  # Private attribute\n",
        "\n",
        "    # Public method\n",
        "    def get_info(self):\n",
        "        return f\"Name: {self.name}, Breed: {self._breed}, Age: {self.__age}\"\n",
        "\n",
        "    # Getter and Setter for private attribute\n",
        "    def get_age(self):\n",
        "        return self.__age\n",
        "\n",
        "    def set_age(self, age):\n",
        "        if age > 0:\n",
        "            self.__age = age\n",
        "        else:\n",
        "            print(\"Invalid age!\")\n",
        "\n",
        "# Example Usage\n",
        "dog = Dog(\"Buddy\", \"Labrador\", 3)\n",
        "\n",
        "# Accessing public member\n",
        "print(dog.name)  # Accessible\n",
        "\n",
        "# Accessing protected member\n",
        "print(dog._breed)  # Accessible but discouraged outside the class\n",
        "\n",
        "# Accessing private member using getter\n",
        "print(dog.get_age())\n",
        "\n",
        "# Modifying private member using setter\n",
        "dog.set_age(5)\n",
        "print(dog.get_info())"
      ],
      "metadata": {
        "id": "QbVVAs8v_x8f"
      },
      "execution_count": null,
      "outputs": []
    },
    {
      "cell_type": "markdown",
      "source": [
        "Data Abstraction:\n",
        "Abstraction hides the internal implementation details while exposing only the necessary functionality. It helps focus on “what to do” rather than “how to do it.”\n",
        "\n",
        "Types of Abstraction:\n",
        "1. Partial Abstraction: Abstract class contains both abstract and concrete methods.\n",
        "2. Full Abstraction: Abstract class contains only abstract methods (like interfaces)."
      ],
      "metadata": {
        "id": "0yVVA8gU_2FD"
      }
    },
    {
      "cell_type": "code",
      "source": [
        "from abc import ABC, abstractmethod\n",
        "\n",
        "class Dog(ABC):  # Abstract Class\n",
        "    def __init__(self, name):\n",
        "        self.name = name\n",
        "\n",
        "    @abstractmethod\n",
        "    def sound(self):  # Abstract Method\n",
        "        pass\n",
        "\n",
        "    def display_name(self):  # Concrete Method\n",
        "        print(f\"Dog's Name: {self.name}\")\n",
        "\n",
        "class Labrador(Dog):  # Partial Abstraction\n",
        "    def sound(self):\n",
        "        print(\"Labrador Woof!\")\n",
        "\n",
        "class Beagle(Dog):  # Partial Abstraction\n",
        "    def sound(self):\n",
        "        print(\"Beagle Bark!\")\n",
        "\n",
        "# Example Usage\n",
        "dogs = [Labrador(\"Buddy\"), Beagle(\"Charlie\")]\n",
        "for dog in dogs:\n",
        "    dog.display_name()  # Calls concrete method\n",
        "    dog.sound()  # Calls implemented abstract method"
      ],
      "metadata": {
        "id": "6No1OLMS_6zr"
      },
      "execution_count": null,
      "outputs": []
    },
    {
      "cell_type": "markdown",
      "source": [
        "For Loop:\n",
        "Using a for loop inside an object method"
      ],
      "metadata": {
        "id": "gDY-3wJ8BypA"
      }
    },
    {
      "cell_type": "code",
      "source": [
        "class NumberPrinter:\n",
        "    def __init__(self, start, end):\n",
        "        self.start = start\n",
        "        self.end = end\n",
        "\n",
        "    def print_numbers(self):\n",
        "        # Using 'for' loop to print numbers from start to end\n",
        "        for num in range(self.start, self.end + 1):\n",
        "            print(num)\n",
        "\n",
        "# Create an object of NumberPrinter\n",
        "printer = NumberPrinter(1, 5)\n",
        "printer.print_numbers()  # Output: 1 2 3 4 5\n"
      ],
      "metadata": {
        "id": "9cnRfLDZB3-q"
      },
      "execution_count": null,
      "outputs": []
    },
    {
      "cell_type": "markdown",
      "source": [
        "While Loop:\n",
        "Using a while loop inside an object method\n",
        "\n",
        "\n"
      ],
      "metadata": {
        "id": "4Tg9dJS9B7I_"
      }
    },
    {
      "cell_type": "code",
      "source": [
        "class Countdown:\n",
        "    def __init__(self, start):\n",
        "        self.start = start\n",
        "\n",
        "    def countdown(self):\n",
        "        # Using 'while' loop to count down to 0\n",
        "        while self.start >= 0:\n",
        "            print(self.start)\n",
        "            self.start -= 1\n",
        "\n",
        "# Create an object of Countdown\n",
        "counter = Countdown(5)\n",
        "counter.countdown()  # Output: 5 4 3 2 1 0\n"
      ],
      "metadata": {
        "id": "-gyfCdkZB9Ok"
      },
      "execution_count": null,
      "outputs": []
    },
    {
      "cell_type": "markdown",
      "source": [
        "If Condition:\n",
        "Using if conditions inside a method"
      ],
      "metadata": {
        "id": "Iae4ezYLCBbm"
      }
    },
    {
      "cell_type": "code",
      "source": [
        "class NumberCheck:\n",
        "    def __init__(self, number):\n",
        "        self.number = number\n",
        "\n",
        "    def check_even_odd(self):\n",
        "        # Using 'if' statement to check if the number is even or odd\n",
        "        if self.number % 2 == 0:\n",
        "            print(f\"{self.number} is Even\")\n",
        "        else:\n",
        "            print(f\"{self.number} is Odd\")\n",
        "\n",
        "# Create an object of NumberCheck\n",
        "num = NumberCheck(7)\n",
        "num.check_even_odd()  # Output: 7 is Odd\n"
      ],
      "metadata": {
        "id": "Ejn3rzyjCDqR"
      },
      "execution_count": null,
      "outputs": []
    },
    {
      "cell_type": "markdown",
      "source": [
        "If-Else Condition:\n",
        "Using an if-else condition inside a method"
      ],
      "metadata": {
        "id": "Vm_TwR_qCH_4"
      }
    },
    {
      "cell_type": "code",
      "source": [
        "class Temperature:\n",
        "    def __init__(self, temp):\n",
        "        self.temp = temp\n",
        "\n",
        "    def check_temperature(self):\n",
        "        # Using 'if-else' to check the temperature\n",
        "        if self.temp > 30:\n",
        "            print(\"It's hot!\")\n",
        "        else:\n",
        "            print(\"It's cool!\")\n",
        "\n",
        "# Create an object of Temperature\n",
        "temp = Temperature(32)\n",
        "temp.check_temperature()  # Output: It's hot!\n"
      ],
      "metadata": {
        "id": "LZbrOl4OCLyl"
      },
      "execution_count": null,
      "outputs": []
    },
    {
      "cell_type": "markdown",
      "source": [
        "Nested If Conditions:\n",
        "Using nested if conditions to check multiple conditions\n",
        "\n"
      ],
      "metadata": {
        "id": "HIyYDXEwCOLK"
      }
    },
    {
      "cell_type": "code",
      "source": [
        "class Grade:\n",
        "    def __init__(self, score):\n",
        "        self.score = score\n",
        "\n",
        "    def evaluate_grade(self):\n",
        "        # Nested 'if' condition to evaluate grade\n",
        "        if self.score >= 90:\n",
        "            print(\"Grade: A\")\n",
        "        elif self.score >= 75:\n",
        "            print(\"Grade: B\")\n",
        "        elif self.score >= 60:\n",
        "            print(\"Grade: C\")\n",
        "        else:\n",
        "            print(\"Grade: F\")\n",
        "\n",
        "# Create an object of Grade\n",
        "student = Grade(85)\n",
        "student.evaluate_grade()  # Output: Grade: B\n"
      ],
      "metadata": {
        "id": "X9aV7CXrCQxU"
      },
      "execution_count": null,
      "outputs": []
    },
    {
      "cell_type": "markdown",
      "source": [
        "Break and Continue in Loops\n"
      ],
      "metadata": {
        "id": "NVzSRv_iCYUI"
      }
    },
    {
      "cell_type": "code",
      "source": [
        "class LoopControl:\n",
        "    def __init__(self, start, end):\n",
        "        self.start = start\n",
        "        self.end = end\n",
        "\n",
        "    def loop_with_break_continue(self):\n",
        "        # Using 'for' loop with 'break' and 'continue'\n",
        "        for num in range(self.start, self.end + 1):\n",
        "            if num == 5:\n",
        "                print(\"Breaking at 5\")\n",
        "                break  # Breaks the loop when the number is 5\n",
        "            elif num == 3:\n",
        "                print(\"Skipping 3\")\n",
        "                continue  # Skips the iteration for number 3\n",
        "            print(num)\n",
        "\n",
        "# Create an object of LoopControl\n",
        "control = LoopControl(1, 7)\n",
        "control.loop_with_break_continue()\n",
        "# Output:\n",
        "# 1\n",
        "# 2\n",
        "# Skipping 3\n",
        "# 4\n",
        "# Breaking at 5\n"
      ],
      "metadata": {
        "id": "vxBl1GlLCa0Q"
      },
      "execution_count": null,
      "outputs": []
    },
    {
      "cell_type": "markdown",
      "source": [
        "List:\n",
        "1. Definition: An ordered collection of elements, which can be of any data type.\n",
        "2. Syntax: Defined with square brackets [].\n",
        "3. Order: Maintains the insertion order of elements.\n",
        "4. Mutability: Mutable (can be changed after creation).\n",
        "5. Duplicates: Allows duplicate values.\n",
        "6. Indexing: Supports indexing (can access elements by their index).\n",
        "7. Slicing: Supports slicing to extract sublists.\n",
        "8. Performance: Slower for large datasets because of dynamic resizing.\n",
        "9. Use Case: Used when elements need to be changed (add, remove, modify).\n",
        "10. Methods: Supports many methods like .append(), .remove(), .pop(), .sort(), etc.\n"
      ],
      "metadata": {
        "id": "eMK8wvP2EhMf"
      }
    },
    {
      "cell_type": "code",
      "source": [
        "# List example\n",
        "my_list = [1, 2, 3, 4, 5]\n",
        "\n",
        "# Accessing and modifying elements\n",
        "print(my_list[0])  # Output: 1\n",
        "my_list[1] = 10\n",
        "print(my_list)  # Output: [1, 10, 3, 4, 5]\n",
        "\n",
        "# Slicing\n",
        "print(my_list[1:4])  # Output: [10, 3, 4]\n"
      ],
      "metadata": {
        "id": "15JSlae8Eujg"
      },
      "execution_count": null,
      "outputs": []
    },
    {
      "cell_type": "markdown",
      "source": [
        "Tuple:\n",
        "1. Definition: An ordered collection of elements that is immutable.\n",
        "2. Syntax: Defined with round brackets ().\n",
        "3. Order: Maintains the insertion order of elements.\n",
        "4. Mutability: Immutable (cannot be changed after creation).\n",
        "5. Duplicates: Allows duplicate values.\n",
        "6. Indexing: Supports indexing (can access elements by their index).\n",
        "7. Slicing: Supports slicing to extract subtuples.\n",
        "8. Performance: Faster and more memory-efficient than lists for iteration.\n",
        "9. Use Case: Used when elements should not change, like coordinates or fixed data.\n",
        "10. Methods: Fewer methods than lists, e.g., .count(), .index().\n"
      ],
      "metadata": {
        "id": "usMtpkS5ExWM"
      }
    },
    {
      "cell_type": "code",
      "source": [
        "# Tuple example\n",
        "my_tuple = (1, 2, 3, 4, 5)\n",
        "\n",
        "# Accessing elements\n",
        "print(my_tuple[0])  # Output: 1\n",
        "\n",
        "# Slicing\n",
        "print(my_tuple[1:4])  # Output: (2, 3, 4)\n",
        "\n",
        "# Concatenation (creating a new tuple)\n",
        "new_tuple = my_tuple + (6,)\n",
        "print(new_tuple)  # Output: (1, 2, 3, 4, 5, 6)\n"
      ],
      "metadata": {
        "id": "RJY-cFSkFCHY"
      },
      "execution_count": null,
      "outputs": []
    },
    {
      "cell_type": "markdown",
      "source": [
        "Set:\n",
        "1. Definition: An unordered collection of unique elements.\n",
        "2. Syntax: Defined with curly brackets {}.\n",
        "3. Order: Unordered (no guarantee of insertion order).\n",
        "4. Mutability: Mutable (can add or remove elements).\n",
        "5. Duplicates: Does not allow duplicates; only unique values.\n",
        "6. Indexing: Does not support indexing (no element positions).\n",
        "7. Slicing: Does not support slicing.\n",
        "8. Performance: Fast for membership testing and eliminating duplicates.\n",
        "9. Use Case: Useful when you need unique elements or for set operations (union, intersection).\n",
        "10. Methods: Supports methods like .add(), .remove(), .discard(), .union(), .intersection()."
      ],
      "metadata": {
        "id": "Qrt_GFltFDUL"
      }
    },
    {
      "cell_type": "code",
      "source": [
        "# Set example\n",
        "my_set = {1, 2, 3, 4, 5}\n",
        "\n",
        "# Adding elements\n",
        "my_set.add(6)\n",
        "print(my_set)  # Output: {1, 2, 3, 4, 5, 6}\n",
        "\n",
        "# Removing elements\n",
        "my_set.remove(4)\n",
        "print(my_set)  # Output: {1, 2, 3, 5, 6}\n",
        "\n",
        "# Sets do not support indexing\n",
        "# print(my_set[0])  # This will raise an error\n"
      ],
      "metadata": {
        "id": "Wu6NPwmaFTRE"
      },
      "execution_count": null,
      "outputs": []
    },
    {
      "cell_type": "markdown",
      "source": [
        "Dictionary:\n",
        "1. Definition: A collection of key-value pairs, where keys are unique.\n",
        "2. Syntax: Defined with curly brackets {key: value}.\n",
        "3. Order: Maintains the insertion order of key-value pairs (since Python 3.7+).\n",
        "4. Mutability: Mutable (can change values, add/remove key-value pairs).\n",
        "5. Duplicates: Keys must be unique, but values can be duplicated.\n",
        "6. Indexing: Indexed by keys, not by integers.\n",
        "7. Slicing: Does not support slicing (use keys for access).\n",
        "8. Performance: Very fast for lookups by key.\n",
        "9. Use Case: Used for mapping relationships (e.g., name to phone number).\n",
        "10. Methods: Supports methods like .get(), .keys(), .values(), .items().\n"
      ],
      "metadata": {
        "id": "0P0fsWHmFUSM"
      }
    },
    {
      "cell_type": "code",
      "source": [
        "# Dictionary example\n",
        "my_dict = {'a': 1, 'b': 2, 'c': 3}\n",
        "\n",
        "# Accessing elements by key\n",
        "print(my_dict['a'])  # Output: 1\n",
        "\n",
        "# Adding or updating key-value pairs\n",
        "my_dict['d'] = 4\n",
        "print(my_dict)  # Output: {'a': 1, 'b': 2, 'c': 3, 'd': 4}\n",
        "\n",
        "# Removing a key-value pair\n",
        "del my_dict['b']\n",
        "print(my_dict)  # Output: {'a': 1, 'c': 3, 'd': 4}\n",
        "\n",
        "# Accessing all keys and values\n",
        "print(my_dict.keys())  # Output: dict_keys(['a', 'c', 'd'])\n",
        "print(my_dict.values())  # Output: dict_values([1, 3, 4])\n"
      ],
      "metadata": {
        "id": "8iAFDoTRFqiK"
      },
      "execution_count": null,
      "outputs": []
    },
    {
      "cell_type": "markdown",
      "source": [
        "Lambda Functions:\n",
        "A lambda function is a small, anonymous function that is defined using the lambda keyword (in Python, for example). The main benefit of lambda functions is that they can be written in a single line, making them more concise than traditional function definitions.\n",
        "\n",
        "Key Points About Lambda Functions:\n",
        "1. They can have any number of arguments but only one expression.\n",
        "2. The result of the expression is automatically returned (no need for a return statement).\n",
        "3. Typically used for short-term tasks or when passing functions as arguments to higher-order functions.\n",
        "\n",
        "Syntax:\n",
        "1. Arguments: The inputs to the lambda function.\n",
        "2. Expression: The single operation that the function performs and returns."
      ],
      "metadata": {
        "id": "GDdfsQ9SaO0i"
      }
    },
    {
      "cell_type": "code",
      "source": [
        "lambda arguments: expression\n"
      ],
      "metadata": {
        "id": "jGEwFywiaU2O"
      },
      "execution_count": null,
      "outputs": []
    },
    {
      "cell_type": "markdown",
      "source": [
        "Example in Python (Lambda Functions):\n",
        "\n",
        "1. Simple Lambda Function: A lambda function that takes two arguments and returns their sum."
      ],
      "metadata": {
        "id": "DcZorPRiaVbt"
      }
    },
    {
      "cell_type": "code",
      "source": [
        "add = lambda x, y: x + y\n",
        "print(add(5, 10))  # Output: 15\n"
      ],
      "metadata": {
        "id": "hYs4STPYaoHa"
      },
      "execution_count": null,
      "outputs": []
    },
    {
      "cell_type": "markdown",
      "source": [
        "2. Lambda with filter (Filtering Even Numbers): Using lambda with the filter() function to filter out even numbers from a list."
      ],
      "metadata": {
        "id": "WPhX-_gTapDT"
      }
    },
    {
      "cell_type": "code",
      "source": [
        "numbers = [1, 2, 3, 4, 5, 6]\n",
        "even_numbers = list(filter(lambda x: x % 2 == 0, numbers))\n",
        "print(even_numbers)  # Output: [2, 4, 6]\n"
      ],
      "metadata": {
        "id": "i7VpxQ99azku"
      },
      "execution_count": null,
      "outputs": []
    },
    {
      "cell_type": "markdown",
      "source": [
        "3. Lambda with map (Squaring Numbers): Using lambda with map() to square each number in a list.\n",
        "\n"
      ],
      "metadata": {
        "id": "I_AuFXQga0V7"
      }
    },
    {
      "cell_type": "code",
      "source": [
        "numbers = [1, 2, 3, 4, 5]\n",
        "squares = list(map(lambda x: x ** 2, numbers))\n",
        "print(squares)  # Output: [1, 4, 9, 16, 25]\n"
      ],
      "metadata": {
        "id": "NMM-ALxla3-_"
      },
      "execution_count": null,
      "outputs": []
    },
    {
      "cell_type": "markdown",
      "source": [
        "4. Lambda with sorted (Sorting by Custom Criteria): Using lambda with the sorted() function to sort a list of tuples based on the second value."
      ],
      "metadata": {
        "id": "k8MwqSG6a8Ja"
      }
    },
    {
      "cell_type": "code",
      "source": [
        "items = [(1, 'apple'), (3, 'banana'), (2, 'cherry')]\n",
        "sorted_items = sorted(items, key=lambda x: x[1])\n",
        "print(sorted_items)  # Output: [(1, 'apple'), (3, 'banana'), (2, 'cherry')]\n"
      ],
      "metadata": {
        "id": "twzdp1SKa5bt"
      },
      "execution_count": null,
      "outputs": []
    },
    {
      "cell_type": "markdown",
      "source": [
        "Lambda Functions and OOPs Principles:\n",
        "\n",
        "1. Encapsulation: In OOP, encapsulation refers to bundling the data (attributes) and methods (functions) that operate on the data into a single unit, or class. Lambda functions don't directly influence this principle, but they can help encapsulate simple functionality that is used within a class or an object. For example, a lambda might be used to define small, class-specific methods or callbacks."
      ],
      "metadata": {
        "id": "HE04yhUCbDZ9"
      }
    },
    {
      "cell_type": "code",
      "source": [
        "class Calculator:\n",
        "    def __init__(self, operation):\n",
        "        self.operation = operation\n",
        "\n",
        "    def calculate(self, a, b):\n",
        "        return self.operation(a, b)\n",
        "\n",
        "# Using a lambda function for addition\n",
        "add_operation = lambda x, y: x + y\n",
        "calc = Calculator(add_operation)\n",
        "print(calc.calculate(5, 10))  # Output: 15\n"
      ],
      "metadata": {
        "id": "LsGrJn2sbIMg"
      },
      "execution_count": null,
      "outputs": []
    },
    {
      "cell_type": "markdown",
      "source": [
        "2. Inheritance: Lambda functions are usually not directly tied to inheritance. However, lambdas can be used as part of base or derived classes, especially when you want to pass functions as parameters or override methods in subclasses.\n",
        "\n"
      ],
      "metadata": {
        "id": "gbILvvKmbJhX"
      }
    },
    {
      "cell_type": "code",
      "source": [
        "class Shape:\n",
        "    def area(self):\n",
        "        return 0\n",
        "\n",
        "class Circle(Shape):\n",
        "    def __init__(self, radius):\n",
        "        self.radius = radius\n",
        "    def area(self):\n",
        "        return lambda: 3.14 * (self.radius ** 2)  # Lambda for area calculation\n",
        "\n",
        "circle = Circle(5)\n",
        "print(circle.area()())  # Output: 78.5\n"
      ],
      "metadata": {
        "id": "eiPI7EmabRb5"
      },
      "execution_count": null,
      "outputs": []
    },
    {
      "cell_type": "markdown",
      "source": [
        "3. Polymorphism: Polymorphism allows objects of different classes to be treated as instances of the same class through a common interface. Lambda functions can provide polymorphic behavior in the form of different function definitions based on context.\n",
        "\n",
        "Example with polymorphism:"
      ],
      "metadata": {
        "id": "IVEFtbCObc4t"
      }
    },
    {
      "cell_type": "code",
      "source": [
        "class Animal:\n",
        "    def sound(self):\n",
        "        return \"Some generic sound\"\n",
        "\n",
        "class Dog(Animal):\n",
        "    def sound(self):\n",
        "        return lambda: \"Bark\"\n",
        "\n",
        "class Cat(Animal):\n",
        "    def sound(self):\n",
        "        return lambda: \"Meow\"\n",
        "\n",
        "animals = [Dog(), Cat()]\n",
        "for animal in animals:\n",
        "    print(animal.sound()())  # Output: Bark  Meow\n"
      ],
      "metadata": {
        "id": "uVcQcI26biW-"
      },
      "execution_count": null,
      "outputs": []
    },
    {
      "cell_type": "markdown",
      "source": [
        "4. Abstraction: Abstraction involves hiding the complexity and showing only the necessary details to the user. Lambda functions allow abstraction in cases where you want to define a simple, reusable function without explicitly naming it. This simplifies the code and abstracts away the details of the function.\n",
        "\n",
        "Example of abstraction:"
      ],
      "metadata": {
        "id": "KSNfSaC5bljY"
      }
    },
    {
      "cell_type": "code",
      "source": [
        "class Sorter:\n",
        "    def sort_numbers(self, nums, order='asc'):\n",
        "        return sorted(nums, key=lambda x: x if order == 'asc' else -x)\n",
        "\n",
        "sorter = Sorter()\n",
        "print(sorter.sort_numbers([3, 1, 4, 2], order='asc'))  # Output: [1, 2, 3, 4]\n",
        "print(sorter.sort_numbers([3, 1, 4, 2], order='desc')) # Output: [4, 3, 2, 1]\n"
      ],
      "metadata": {
        "id": "OPPp3yJyboQU"
      },
      "execution_count": null,
      "outputs": []
    },
    {
      "cell_type": "markdown",
      "source": [
        "PySpark:\n",
        " PySpark is the Python API for Apache Spark, enabling distributed data processing and analytics using Python.\n",
        "\n",
        "Key Components of PySpark:\n",
        "\n",
        "1. RDDs (Resilient Distributed Datasets) − RDDs are the fundamental data structure in Spark. They are immutable distributed collections of objects that can be processed in parallel.\n",
        "\n",
        "2. DataFrames − DataFrames are similar to RDDs but with additional features like named columns, and support for a wide range of data sources. They are analogous to tables in a relational database and provide a higher-level abstraction for data manipulation.\n",
        "\n",
        "3. Spark SQL − This module allows you to execute SQL queries on DataFrames and RDDs. It provides a programming abstraction called DataFrame and can also act as a distributed SQL query engine.\n",
        "\n",
        "4. MLlib (Machine Learning Library) − MLlib is Spark's scalable machine learning library, offering various algorithms and utilities for classification, regression, clustering, collaborative filtering, and more.\n",
        "\n",
        "5. Spark Streaming − Spark Streaming enables real-time data processing and stream processing. It allows you to process live data streams and update results in real-time.\n",
        "\n",
        "Features:\n",
        "\n",
        "1. Integration with Spark − PySpark is tightly integrated with Apache Spark, allowing seamless data processing and analysis using Python Programming.\n",
        "\n",
        "2. Real-time Processing − It enables real-time processing of large-scale datasets.\n",
        "\n",
        "3. Ease of Use − PySpark simplifies complex data processing tasks using Python's simple syntax and extensive libraries.\n",
        "\n",
        "4. Interactive Shell − PySpark offers an interactive shell for real-time data analysis and experimentation.\n",
        "\n",
        "5. Machine Learning − It includes MLlib, a scalable machine learning library.\n",
        "\n",
        "6. Data Sources − PySpark can read data from various sources, including HDFS, S3, HBase, and more.\n",
        "\n",
        "7. Partitioning − Efficiently partitions data to enhance processing speed and efficiency."
      ],
      "metadata": {
        "id": "kFGcKwku439x"
      }
    },
    {
      "cell_type": "markdown",
      "source": [
        " 1. Initialize Spark Session:\n",
        " You need to create a SparkSession to interact with Spark."
      ],
      "metadata": {
        "id": "-Z368urbAN91"
      }
    },
    {
      "cell_type": "code",
      "source": [
        "from pyspark.sql import SparkSession\n",
        "spark = SparkSession.builder.appName(\"PySparkExample\").getOrCreate()\n"
      ],
      "metadata": {
        "id": "kmpNIRxP5NsG"
      },
      "execution_count": null,
      "outputs": []
    },
    {
      "cell_type": "markdown",
      "source": [
        "2. Read Data into a DataFrame:\n",
        "You can read various data formats such as CSV, Parquet, JSON, etc."
      ],
      "metadata": {
        "id": "nlOfilQI5PG_"
      }
    },
    {
      "cell_type": "code",
      "source": [
        "# Reading CSV\n",
        "df = spark.read.csv(\"path_to_file.csv\", header=True, inferSchema=True)\n",
        "\n",
        "# Reading Parquet\n",
        "# df = spark.read.parquet(\"path_to_file.parquet\")\n"
      ],
      "metadata": {
        "id": "9cY18miM5UOW"
      },
      "execution_count": null,
      "outputs": []
    },
    {
      "cell_type": "markdown",
      "source": [
        "3. Display the DataFrame:\n",
        "To view the first few rows of the DataFrame.\n",
        "\n",
        "\n"
      ],
      "metadata": {
        "id": "XiJ1ntAf5YK8"
      }
    },
    {
      "cell_type": "code",
      "source": [
        "df.show(5)  # Show the first 5 rows\n"
      ],
      "metadata": {
        "id": "MEJjYRKI5dhb"
      },
      "execution_count": null,
      "outputs": []
    },
    {
      "cell_type": "markdown",
      "source": [
        "4. Select Columns:\n",
        "To select specific columns from the DataFrame."
      ],
      "metadata": {
        "id": "6fl8i02Y5gNy"
      }
    },
    {
      "cell_type": "code",
      "source": [
        "df.select(\"column1\", \"column2\").show()\n"
      ],
      "metadata": {
        "id": "cGKo-hzJ5knk"
      },
      "execution_count": null,
      "outputs": []
    },
    {
      "cell_type": "markdown",
      "source": [
        "5. Filter Rows:\n",
        "To filter rows based on conditions."
      ],
      "metadata": {
        "id": "ediFhVVL5q4G"
      }
    },
    {
      "cell_type": "code",
      "source": [
        "filtered_df = df.filter(df['age'] > 30)\n",
        "filtered_df.show()\n"
      ],
      "metadata": {
        "id": "3d-e75rv5tSw"
      },
      "execution_count": null,
      "outputs": []
    },
    {
      "cell_type": "markdown",
      "source": [
        "6. Group and Aggregate:\n",
        "To perform grouping and aggregations."
      ],
      "metadata": {
        "id": "ywnYtRlB5xUT"
      }
    },
    {
      "cell_type": "code",
      "source": [
        "df.groupBy(\"column_name\").agg({\"another_column\": \"avg\"}).show()\n"
      ],
      "metadata": {
        "id": "tMHPidY15zvh"
      },
      "execution_count": null,
      "outputs": []
    },
    {
      "cell_type": "markdown",
      "source": [
        "7. Add a New Column:\n",
        "To create a new column based on existing data."
      ],
      "metadata": {
        "id": "Jh0UzI0P55io"
      }
    },
    {
      "cell_type": "code",
      "source": [
        "from pyspark.sql.functions import col\n",
        "df = df.withColumn(\"new_column\", col(\"existing_column\") * 2)\n",
        "df.show()\n"
      ],
      "metadata": {
        "id": "3lJiN3Gc5901"
      },
      "execution_count": null,
      "outputs": []
    },
    {
      "cell_type": "markdown",
      "source": [
        "8. Sort Data:\n",
        "To sort the DataFrame by a specific column."
      ],
      "metadata": {
        "id": "sxEF5jJw6A59"
      }
    },
    {
      "cell_type": "code",
      "source": [
        "df.orderBy(\"age\", ascending=False).show()  # Sort by age in descending order\n"
      ],
      "metadata": {
        "id": "fh3BlPmp6F5C"
      },
      "execution_count": null,
      "outputs": []
    },
    {
      "cell_type": "markdown",
      "source": [
        "In PySpark, you can execute SQL-like queries using DataFrame API or by registering a DataFrame as a temporary SQL table and running SQL queries against it. The way to write PySpark query in both ways:\n",
        "\n",
        "1. Using the DataFrame API:\n",
        "You can perform SQL-like operations with methods like filter(), select(), groupBy(), agg(), and others. Here's an example:\n",
        "\n"
      ],
      "metadata": {
        "id": "82lIPvBk6irM"
      }
    },
    {
      "cell_type": "code",
      "source": [
        "from pyspark.sql import SparkSession\n",
        "\n",
        "# Create Spark session\n",
        "spark = SparkSession.builder.appName(\"PySparkQuery\").getOrCreate()\n",
        "\n",
        "# Load data into DataFrame\n",
        "df = spark.read.csv(\"path_to_data.csv\", header=True, inferSchema=True)\n",
        "\n",
        "# Perform a query using DataFrame API (similar to SQL)\n",
        "filtered_df = df.filter(df['age'] > 30).select(\"name\", \"age\")\n",
        "\n",
        "# Show the result\n",
        "filtered_df.show()\n"
      ],
      "metadata": {
        "id": "g6lO118F6mxM"
      },
      "execution_count": null,
      "outputs": []
    },
    {
      "cell_type": "markdown",
      "source": [
        "2. Using SQL Queries (via SparkSession.sql()):\n",
        "You can register your DataFrame as a temporary view and then run SQL queries using spark.sql():"
      ],
      "metadata": {
        "id": "Yw-DI2966pNK"
      }
    },
    {
      "cell_type": "code",
      "source": [
        "# Register the DataFrame as a SQL temporary view\n",
        "df.createOrReplaceTempView(\"people\")\n",
        "\n",
        "# Run a SQL query\n",
        "result = spark.sql(\"SELECT name, age FROM people WHERE age > 30\")\n",
        "\n",
        "# Show the result of the query\n",
        "result.show()\n"
      ],
      "metadata": {
        "id": "EPpf0t3Y6qvD"
      },
      "execution_count": null,
      "outputs": []
    },
    {
      "cell_type": "markdown",
      "source": [
        "PySpark libraries and modules:\n",
        "\n",
        " pyspark.sql:\n",
        "\n",
        "1. This is the main module for working with structured data (DataFrames and SQL queries).\n",
        "\n",
        "2. SparkSession: Entry point for working with DataFrames and SQL.\n",
        "3. DataFrame: A distributed collection of data organized into named columns (like a table in a database).\n",
        "4. functions: Common SQL functions like col(), lit(), when(), avg(), etc.\n",
        "5. types: Defines the data types used in DataFrames, such as IntegerType(), StringType(), etc."
      ],
      "metadata": {
        "id": "-R2EixCm9lTl"
      }
    },
    {
      "cell_type": "code",
      "source": [
        "from pyspark.sql import SparkSession\n",
        "from pyspark.sql.functions import col\n",
        "\n",
        "spark = SparkSession.builder.appName(\"ExampleApp\").getOrCreate()\n",
        "df = spark.read.csv(\"data.csv\", header=True, inferSchema=True)\n",
        "df.select(col(\"age\")).show()\n"
      ],
      "metadata": {
        "id": "9EEsTS0E-Cn5"
      },
      "execution_count": null,
      "outputs": []
    },
    {
      "cell_type": "markdown",
      "source": [
        " pyspark.rdd:\n",
        "\n",
        "1. This module provides low-level APIs for working with RDDs (Resilient Distributed Datasets), Spark’s original distributed data structure.\n",
        "\n",
        "2. RDD: The fundamental data structure for distributed computing.\n",
        "\n",
        "3. map(), filter(), reduce(), and other transformation/actions functions.\n"
      ],
      "metadata": {
        "id": "_x3E7jRr-Lwi"
      }
    },
    {
      "cell_type": "code",
      "source": [
        "from pyspark import SparkContext\n",
        "\n",
        "sc = SparkContext(\"local\", \"RDD Example\")\n",
        "rdd = sc.parallelize([1, 2, 3, 4])\n",
        "rdd.map(lambda x: x * 2).collect()  # [2, 4, 6, 8]\n"
      ],
      "metadata": {
        "id": "5Rt5YkF0-Y8i"
      },
      "execution_count": null,
      "outputs": []
    },
    {
      "cell_type": "markdown",
      "source": [
        "pyspark.ml:\n",
        "\n",
        "1. This library is for Machine Learning (MLlib).\n",
        "\n",
        "2. Pipeline: To define a sequence of data processing stages and models.\n",
        "3. Estimator and Transformer: Base classes for all ML algorithms.\n",
        "4. Common algorithms: Logistic Regression, Decision Trees, Random Forests, etc.\n"
      ],
      "metadata": {
        "id": "mwBKxiMo-bc8"
      }
    },
    {
      "cell_type": "code",
      "source": [
        "from pyspark.ml.classification import LogisticRegression\n",
        "from pyspark.ml.feature import VectorAssembler\n",
        "\n",
        "# Example pipeline\n",
        "assembler = VectorAssembler(inputCols=[\"feature1\", \"feature2\"], outputCol=\"features\")\n",
        "lr = LogisticRegression(featuresCol=\"features\", labelCol=\"label\")\n",
        "\n",
        "# Transform and train a model\n",
        "model = lr.fit(assembler.transform(df))\n"
      ],
      "metadata": {
        "id": "fcPx4xDQ-lMZ"
      },
      "execution_count": null,
      "outputs": []
    },
    {
      "cell_type": "markdown",
      "source": [
        "pyspark.streaming:\n",
        "\n",
        "1. This module is used for real-time stream processing with Spark Streaming.\n",
        "\n",
        "2. DStream: Represents a stream of data over time.\n",
        "\n",
        "3. window(), transform(), and reduceByWindow() are common transformations."
      ],
      "metadata": {
        "id": "MUjs_pbU-n3f"
      }
    },
    {
      "cell_type": "code",
      "source": [
        "from pyspark.streaming import StreamingContext\n",
        "\n",
        "ssc = StreamingContext(sc, 1)  # 1 second batch interval\n",
        "lines = ssc.socketTextStream(\"localhost\", 9999)\n",
        "words = lines.flatMap(lambda line: line.split(\" \"))\n",
        "word_counts = words.countByValue()\n",
        "word_counts.pprint()\n",
        "\n",
        "ssc.start()\n",
        "ssc.awaitTermination()\n"
      ],
      "metadata": {
        "id": "oGBL3oXd-t_K"
      },
      "execution_count": null,
      "outputs": []
    },
    {
      "cell_type": "markdown",
      "source": [
        "pyspark.graphx (via pyspark.sql):\n",
        "\n",
        "1. Though GraphX is primarily available in Scala, you can use GraphFrames in PySpark (through pyspark.sql).\n",
        "\n",
        "2. GraphFrame: A DataFrame-based API for graph processing, supporting graph algorithms like PageRank, connected components, and more.\n",
        "\n",
        "pyspark.sql.window:\n",
        "\n",
        "1. This module provides window functions for performing operations across a range of rows related to the current row.\n",
        "\n",
        "2. Functions: row_number(), rank(), dense_rank(), etc.\n"
      ],
      "metadata": {
        "id": "gdZLbMZb-vC3"
      }
    },
    {
      "cell_type": "code",
      "source": [
        "from pyspark.sql.window import Window\n",
        "from pyspark.sql.functions import rank\n",
        "\n",
        "windowSpec = Window.orderBy(\"age\")\n",
        "df.withColumn(\"rank\", rank().over(windowSpec)).show()\n"
      ],
      "metadata": {
        "id": "XtaPdOM-_K7w"
      },
      "execution_count": null,
      "outputs": []
    },
    {
      "cell_type": "markdown",
      "source": [
        "pyspark.ml.feature :\n",
        "\n",
        "1. This library provides tools for feature engineering.\n",
        "\n",
        "2. VectorAssembler: Combines multiple columns into a single vector column.\n",
        "\n",
        "3. StandardScaler: Standardizes features by removing the mean and scaling to unit variance.\n",
        "\n",
        "4. OneHotEncoder: Converts categorical variables into one-hot encoded format."
      ],
      "metadata": {
        "id": "ZsoVNLtb_RSA"
      }
    },
    {
      "cell_type": "code",
      "source": [
        "from pyspark.ml.feature import VectorAssembler, StandardScaler\n",
        "\n",
        "assembler = VectorAssembler(inputCols=[\"col1\", \"col2\"], outputCol=\"features\")\n",
        "scaler = StandardScaler(inputCol=\"features\", outputCol=\"scaled_features\")\n"
      ],
      "metadata": {
        "id": "2wbgdGSn_ZKJ"
      },
      "execution_count": null,
      "outputs": []
    },
    {
      "cell_type": "markdown",
      "source": [
        "pyspark.sql.functions:\n",
        "\n",
        "1. A collection of built-in functions for data manipulation in DataFrames, like:\n",
        "\n",
        "2. col(): Refers to a column in the DataFrame.\n",
        "3. lit(): Creates a column with a literal value.\n",
        "4. when(): Similar to SQL's CASE WHEN for conditional transformations."
      ],
      "metadata": {
        "id": "Hz9GQvrB_c0y"
      }
    },
    {
      "cell_type": "code",
      "source": [
        "from pyspark.sql.functions import when, col\n",
        "\n",
        "df = df.withColumn(\"age_group\", when(col(\"age\") > 30, \"Adult\").otherwise(\"Young\"))\n"
      ],
      "metadata": {
        "id": "7NitQn3H_kr8"
      },
      "execution_count": null,
      "outputs": []
    },
    {
      "cell_type": "markdown",
      "source": [
        "pyspark.sql.types:\n",
        "\n",
        "1. Defines the types for DataFrame columns. Includes:\n",
        "\n",
        "2. IntegerType, StringType, DoubleType, BooleanType, etc.\n",
        "3. Used when defining the schema of a DataFrame."
      ],
      "metadata": {
        "id": "0hnrkh2R_lYM"
      }
    },
    {
      "cell_type": "code",
      "source": [
        "from pyspark.sql.types import StructType, StructField, IntegerType\n",
        "\n",
        "schema = StructType([StructField(\"id\", IntegerType(), True), StructField(\"age\", IntegerType(), True)])\n",
        "df = spark.read.schema(schema).csv(\"data.csv\")\n"
      ],
      "metadata": {
        "id": "TZ9iDd1J_soP"
      },
      "execution_count": null,
      "outputs": []
    },
    {
      "cell_type": "markdown",
      "source": [
        "pyspark.sql.catalog:\n",
        "1. Provides methods to interact with the catalog for managing databases, tables, and views.\n",
        "\n",
        "2. listTables(), listDatabases(), createTempView(), etc.\n"
      ],
      "metadata": {
        "id": "N_T0JTPg_vaH"
      }
    },
    {
      "cell_type": "markdown",
      "source": [
        "\n",
        "Basic SQL Concepts:\n",
        "\n",
        "1. What is SQL, and why is it important in data analytics?\n",
        "\n",
        "SQL (Structured Query Language) is a standard programming language used to manage and manipulate relational databases. It allows users to interact with databases to perform operations like data retrieval, insertion, updating, and deletion.\n",
        "\n",
        "Key Features of SQL:\n",
        "\n",
        "1. Data Querying: Retrieve specific data from large datasets using commands like SELECT.\n",
        "2. Data Manipulation: Add, update, and delete data in databases with commands like INSERT, UPDATE, and DELETE.\n",
        "3. Data Definition: Create, modify, and delete database structures like tables and schemas using CREATE, ALTER, and DROP.\n",
        "4. Data Control: Manage access permissions and ensure data security with GRANT and REVOKE.\n",
        "5. Transaction Management: Maintain data consistency and handle concurrent access with commands like COMMIT and ROLLBACK.\n",
        "\n",
        "\n",
        "Importance of SQL in Data Analytics:\n",
        "\n",
        "1. Data Access and Retrieval: SQL enables analysts to fetch specific data points from vast databases efficiently, which is essential for making informed decisions.\n",
        "2. Data Preparation: Transform raw data into a usable format by filtering, sorting, and aggregating data.\n",
        "3. Performance Optimization: SQL provides powerful tools like indexing and partitioning to speed up query execution, even for large datasets."
      ],
      "metadata": {
        "id": "guEO26l07BXO"
      }
    },
    {
      "cell_type": "markdown",
      "source": [
        "Query-1 :\n",
        "Show existing databases"
      ],
      "metadata": {
        "id": "Z1JjdVZl7w_6"
      }
    },
    {
      "cell_type": "code",
      "source": [
        "SHOW DATABASES;"
      ],
      "metadata": {
        "id": "UDbH_DsC7zRw"
      },
      "execution_count": null,
      "outputs": []
    },
    {
      "cell_type": "markdown",
      "source": [
        "Query-2 :\n",
        "Drop a database:\n",
        "Suppose we want to drop the database namely student."
      ],
      "metadata": {
        "id": "CA6gTlO670SV"
      }
    },
    {
      "cell_type": "code",
      "source": [
        "DROP DATABASE student;\n",
        "SHOW DATABASES;"
      ],
      "metadata": {
        "id": "2ZP82Y9C73am"
      },
      "execution_count": null,
      "outputs": []
    },
    {
      "cell_type": "markdown",
      "source": [
        "Query-3 :\n",
        "Create a database –\n",
        "Suppose we want to create a database namely a bank."
      ],
      "metadata": {
        "id": "MG2zs6wO75Cg"
      }
    },
    {
      "cell_type": "code",
      "source": [
        "CREATE DATABASE bank;\n",
        "SHOW DATABASES;"
      ],
      "metadata": {
        "id": "RPvki3XC8KTt"
      },
      "execution_count": null,
      "outputs": []
    },
    {
      "cell_type": "markdown",
      "source": [
        "Query-4 :\n",
        "Using a database –"
      ],
      "metadata": {
        "id": "9CwLYm9p8NSm"
      }
    },
    {
      "cell_type": "code",
      "source": [
        "USE bank;"
      ],
      "metadata": {
        "id": "ExmDSgaQ8PTQ"
      },
      "execution_count": null,
      "outputs": []
    },
    {
      "cell_type": "markdown",
      "source": [
        "Query-5 :\n",
        "Create a Table –\n",
        "Here data type may be varchar, integer, date, etc.\n",
        "\n",
        "CREATE TABLE table_name (\n",
        "   column1 datatype,\n",
        "   column2 datatype,\n",
        "  ....\n",
        ");"
      ],
      "metadata": {
        "id": "dxal8QY48Ruc"
      }
    },
    {
      "cell_type": "code",
      "source": [
        "CREATE TABLE IF NOT EXISTS Employee (\n",
        "   EmployeeID int,\n",
        "   FirstName varchar(55),\n",
        "   LastName varchar(55),\n",
        "   Email varchar(150),\n",
        "   DOB date\n",
        ");"
      ],
      "metadata": {
        "id": "O3UmRJwK8cfx"
      },
      "execution_count": null,
      "outputs": []
    },
    {
      "cell_type": "markdown",
      "source": [
        "Query-6 :\n",
        "Show tables in the same database –"
      ],
      "metadata": {
        "id": "OqeLSZg38tAR"
      }
    },
    {
      "cell_type": "code",
      "source": [
        "SHOW TABLES;\n"
      ],
      "metadata": {
        "id": "73OqOJif8ujw"
      },
      "execution_count": null,
      "outputs": []
    },
    {
      "cell_type": "markdown",
      "source": [
        "Query-7 :\n",
        "Dropping a Table –\n",
        "\n"
      ],
      "metadata": {
        "id": "VbFRZrQG8wWl"
      }
    },
    {
      "cell_type": "code",
      "source": [
        "DROP TABLE table_name;\n"
      ],
      "metadata": {
        "id": "Lz7kVzNj8yIt"
      },
      "execution_count": null,
      "outputs": []
    },
    {
      "cell_type": "markdown",
      "source": [
        "Query-8 :\n",
        "Inserting values into an existing table:"
      ],
      "metadata": {
        "id": "n8lXy6v38z2C"
      }
    },
    {
      "cell_type": "code",
      "source": [
        "INSERT INTO Employee\n",
        "VALUES(1111,'Dipak','Bera','dipakbera@gmail.com','1994-11-22');"
      ],
      "metadata": {
        "id": "OxWK8qYs83kk"
      },
      "execution_count": null,
      "outputs": []
    },
    {
      "cell_type": "markdown",
      "source": [
        "Query-9 :\n",
        "Fetching values in a table –"
      ],
      "metadata": {
        "id": "w3Y4nVyl86K-"
      }
    },
    {
      "cell_type": "code",
      "source": [
        "SELECT * FROM Employee;"
      ],
      "metadata": {
        "id": "0T9eTmX588Ts"
      },
      "execution_count": null,
      "outputs": []
    },
    {
      "cell_type": "markdown",
      "source": [
        "Query-10 :\n",
        "Not Null –\n",
        "We can specify which column does not accept the null value when we insert a value(row) in a table. It will be done at the time of table creation."
      ],
      "metadata": {
        "id": "9c2qyMqU8-zU"
      }
    },
    {
      "cell_type": "code",
      "source": [
        "CREATE TABLE table_name (\n",
        "  column1 datatype NOT NULL,\n",
        "  column2 datatype,\n",
        " ....\n",
        ");"
      ],
      "metadata": {
        "id": "BrJaL8kT9CEM"
      },
      "execution_count": null,
      "outputs": []
    },
    {
      "cell_type": "markdown",
      "source": [
        "Query-11 :\n",
        "Unique –\n",
        "We can also specify that entries in a particular column should be unique."
      ],
      "metadata": {
        "id": "M7eNs8cc9El6"
      }
    },
    {
      "cell_type": "code",
      "source": [
        "CREATE TABLE demo_table\n",
        "(\n",
        "EmployeeID int NOT NULL UNIQUE,\n",
        "FirstName varchar(55),\n",
        "LastName varchar(55)\n",
        ");"
      ],
      "metadata": {
        "id": "RHdeuF859IMp"
      },
      "execution_count": null,
      "outputs": []
    },
    {
      "cell_type": "markdown",
      "source": [
        "KEY CONCEPTS in SQL :\n",
        "Here, we will discuss some important concepts like keys, join operations, having clauses, order by, etc. Let’s discuss it one by one.\n",
        "\n",
        "1. PRIMARY KEY –\n",
        "The constraint PRIMARY KEY suggests that entries should be neither null nor duplicate corresponding to the specified column."
      ],
      "metadata": {
        "id": "bTa2NaAS9LOb"
      }
    },
    {
      "cell_type": "code",
      "source": [
        "CREATE TABLE IF NOT EXISTS Customer(\n",
        "CustID int NOT NULL,\n",
        "FName varchar(55),\n",
        "LName varchar(55),\n",
        "Email varchar(100),\n",
        "DOB date,\n",
        "CONSTRAINT customer_custid_pk  PRIMARY KEY(CustID)\n",
        ");"
      ],
      "metadata": {
        "id": "W_sDsO8r9Opp"
      },
      "execution_count": null,
      "outputs": []
    },
    {
      "cell_type": "markdown",
      "source": [
        "2. FOREIGN KEY –\n",
        "The FOREIGN KEY is used to build a connection between the current table and the previous table containing the primary key."
      ],
      "metadata": {
        "id": "s7Ycgibe9RQV"
      }
    },
    {
      "cell_type": "code",
      "source": [
        "CREATE TABLE Account(\n",
        "AccNo int NOT NULL,\n",
        "AType varchar(20),\n",
        "OBal int,\n",
        "OD date,\n",
        "CurBal int,\n",
        "CONSTRAINT customer_AccNo_fk  FOREIGN KEY(AccNo) REFERENCES Customer(CustID)\n",
        ");"
      ],
      "metadata": {
        "id": "JD3IcCAv9T9P"
      },
      "execution_count": null,
      "outputs": []
    },
    {
      "cell_type": "markdown",
      "source": [
        "3. ORDER BY :\n",
        "TheORDER BY keyword is used to show the result in ascending or descending order. By default, it is in ascending order."
      ],
      "metadata": {
        "id": "i4UxGeU49ZW0"
      }
    },
    {
      "cell_type": "code",
      "source": [
        "SELECT column1, column2, ...\n",
        "FROM table_name\n",
        "ORDER BY column1, column2, ... ASC|DESC;\n",
        "\n",
        "SELECT * FROM Account ORDER BY CurBal;\n",
        "\n",
        "SELECT * FROM Account ORDER BY CurBal DESC;"
      ],
      "metadata": {
        "id": "7lDZA7_K9dk3"
      },
      "execution_count": null,
      "outputs": []
    },
    {
      "cell_type": "markdown",
      "source": [
        "4. GROUP BY :\n",
        "This keyword is used for grouping the results.\n",
        "\n"
      ],
      "metadata": {
        "id": "Dmm786js9t6t"
      }
    },
    {
      "cell_type": "code",
      "source": [
        "SELECT COUNT(AType) FROM Account GROUP BY AType;"
      ],
      "metadata": {
        "id": "hCt0AiOV9v9a"
      },
      "execution_count": null,
      "outputs": []
    },
    {
      "cell_type": "markdown",
      "source": [
        "2. Explain the difference between INNER JOIN, LEFT JOIN, RIGHT JOIN, and FULL OUTER JOIN.\n",
        "\n",
        "Types of JOIN in SQL:\n",
        "There are many types of Joins in SQL. Depending on the use case, we can use different type of SQL JOIN clause. Below, we explain the most commonly used join types with syntax and examples:"
      ],
      "metadata": {
        "id": "S-8xru54988s"
      }
    },
    {
      "cell_type": "markdown",
      "source": [
        "1. SQL INNER JOIN:\n",
        "The INNER JOIN keyword selects all rows from both the tables as long as the condition is satisfied. This keyword will create the result-set by combining all rows from both the tables where the condition satisfies i.e value of the common field will be the same.\n",
        "\n",
        "Syntax:\n"
      ],
      "metadata": {
        "id": "MPl_MZI6-Bws"
      }
    },
    {
      "cell_type": "code",
      "source": [
        "\n",
        "\n",
        "SELECT table1.column1,table1.column2,table2.column1,....\n",
        "FROM table1\n",
        "INNER JOIN table2\n",
        "ON  table1.matching_column = table2.matching_column;"
      ],
      "metadata": {
        "id": "HA5oINpI-VIB"
      },
      "execution_count": null,
      "outputs": []
    },
    {
      "cell_type": "markdown",
      "source": [
        "INNER JOIN Example:"
      ],
      "metadata": {
        "id": "TeHjx1C7-eCD"
      }
    },
    {
      "cell_type": "code",
      "source": [
        "SELECT StudentCourse.COURSE_ID, Student.NAME, Student.AGE FROM Student\n",
        "INNER JOIN StudentCourse\n",
        "ON Student.ROLL_NO = StudentCourse.ROLL_NO;"
      ],
      "metadata": {
        "id": "06NwzGux-Eko"
      },
      "execution_count": null,
      "outputs": []
    },
    {
      "cell_type": "markdown",
      "source": [
        "2. SQL LEFT JOIN:\n",
        "LEFT JOIN returns all the rows of the table on the left side of the join and matches rows for the table on the right side of the join. For the rows for which there is no matching row on the right side, the result-set will contain null. LEFT JOIN is also known as LEFT OUTER JOIN.\n",
        "\n",
        "Syntax:"
      ],
      "metadata": {
        "id": "jKYP_v1A-nFO"
      }
    },
    {
      "cell_type": "code",
      "source": [
        "SELECT table1.column1,table1.column2,table2.column1,....\n",
        "FROM table1\n",
        "LEFT JOIN table2\n",
        "ON table1.matching_column = table2.matching_column;"
      ],
      "metadata": {
        "id": "VD1_vHh3-pt-"
      },
      "execution_count": null,
      "outputs": []
    },
    {
      "cell_type": "markdown",
      "source": [
        "LEFT JOIN Example:"
      ],
      "metadata": {
        "id": "oKsiRROd-sDM"
      }
    },
    {
      "cell_type": "code",
      "source": [
        "SELECT Student.NAME,StudentCourse.COURSE_ID\n",
        "FROM Student\n",
        "LEFT JOIN StudentCourse\n",
        "ON StudentCourse.ROLL_NO = Student.ROLL_NO;"
      ],
      "metadata": {
        "id": "FLCyMuLd-uUO"
      },
      "execution_count": null,
      "outputs": []
    },
    {
      "cell_type": "markdown",
      "source": [
        "3. SQL RIGHT JOIN:\n",
        "RIGHT JOIN returns all the rows of the table on the right side of the join and matching rows for the table on the left side of the join. It is very similar to LEFT JOIN for the rows for which there is no matching row on the left side, the result-set will contain null. RIGHT JOIN is also known as RIGHT OUTER JOIN.\n",
        "\n",
        "Syntax:"
      ],
      "metadata": {
        "id": "i8gIMmYA-w1c"
      }
    },
    {
      "cell_type": "code",
      "source": [
        "SELECT table1.column1,table1.column2,table2.column1,....\n",
        "FROM table1\n",
        "RIGHT JOIN table2\n",
        "ON table1.matching_column = table2.matching_column;"
      ],
      "metadata": {
        "id": "4F3DURas-zRr"
      },
      "execution_count": null,
      "outputs": []
    },
    {
      "cell_type": "markdown",
      "source": [
        "RIGHT JOIN Example:"
      ],
      "metadata": {
        "id": "h_Kcm7Ij-1b9"
      }
    },
    {
      "cell_type": "code",
      "source": [
        "SELECT Student.NAME,StudentCourse.COURSE_ID\n",
        "FROM Student\n",
        "RIGHT JOIN StudentCourse\n",
        "ON StudentCourse.ROLL_NO = Student.ROLL_NO;\n"
      ],
      "metadata": {
        "id": "q9jh2CRm-4Ru"
      },
      "execution_count": null,
      "outputs": []
    },
    {
      "cell_type": "markdown",
      "source": [
        "4. SQL FULL JOIN:\n",
        "FULL JOIN creates the result-set by combining results of both LEFT JOIN and RIGHT JOIN. The result-set will contain all the rows from both tables. For the rows for which there is no matching, the result-set will contain NULL values.\n",
        "\n",
        "Syntax:"
      ],
      "metadata": {
        "id": "w4CouDn0-6lY"
      }
    },
    {
      "cell_type": "code",
      "source": [
        "SELECT table1.column1,table1.column2,table2.column1,....\n",
        "FROM table1\n",
        "FULL JOIN table2\n",
        "ON table1.matching_column = table2.matching_column;"
      ],
      "metadata": {
        "id": "MaelwVmM_NJ7"
      },
      "execution_count": null,
      "outputs": []
    },
    {
      "cell_type": "markdown",
      "source": [
        "FULL JOIN Example:"
      ],
      "metadata": {
        "id": "DAQ2Za5G_O_4"
      }
    },
    {
      "cell_type": "code",
      "source": [
        "SELECT Student.NAME,StudentCourse.COURSE_ID\n",
        "FROM Student\n",
        "FULL JOIN StudentCourse\n",
        "ON StudentCourse.ROLL_NO = Student.ROLL_NO;"
      ],
      "metadata": {
        "id": "BQJXN4wu_RWI"
      },
      "execution_count": null,
      "outputs": []
    },
    {
      "cell_type": "markdown",
      "source": [
        "5. NATURAL JOIN:\n",
        "Returns rows with matching column names and values from both tables, automatically joining on common columns.\n",
        "\n",
        "Syntax:\n",
        "\n"
      ],
      "metadata": {
        "id": "znZUEpMa_3OF"
      }
    },
    {
      "cell_type": "code",
      "source": [
        "SELECT table1.column1, table2.column1\n",
        "FROM table1\n",
        "NATURAL JOIN table2;\n"
      ],
      "metadata": {
        "id": "LNX26dWN_7t2"
      },
      "execution_count": null,
      "outputs": []
    },
    {
      "cell_type": "markdown",
      "source": [
        "NATURAL JOIN Example:"
      ],
      "metadata": {
        "id": "JWTtlG4z_-8E"
      }
    },
    {
      "cell_type": "code",
      "source": [
        "SELECT Student.NAME, StudentCourse.COURSE_ID\n",
        "FROM Student\n",
        "NATURAL JOIN StudentCourse;\n"
      ],
      "metadata": {
        "id": "QemH3jYuAB4n"
      },
      "execution_count": null,
      "outputs": []
    },
    {
      "cell_type": "markdown",
      "source": [
        "3. What is the difference between WHERE and HAVING clauses?\n",
        "\n",
        "WHERE: Used to filter records before any grouping is done (i.e., on individual rows).\n",
        "eg: WHERE filters rows with salary greater than 50,000 before grouping.\n",
        "\n",
        "HAVING: Used to filter records after the GROUP BY clause has been applied (i.e., on aggregated data).\n",
        "eg: HAVING filters groups (departments) that have more than 10 employees."
      ],
      "metadata": {
        "id": "rfagVsaNJtSS"
      }
    },
    {
      "cell_type": "code",
      "source": [
        "SELECT department, COUNT(*) AS num_employees\n",
        "FROM employees\n",
        "WHERE salary > 50000\n",
        "GROUP BY department\n",
        "HAVING COUNT(*) > 10;\n"
      ],
      "metadata": {
        "id": "sXUd81aiJ-Cb"
      },
      "execution_count": null,
      "outputs": []
    },
    {
      "cell_type": "markdown",
      "source": [
        "4. How do you use GROUP BY and HAVING in a query?\n",
        "\n",
        "GROUP BY: Used to group rows that have the same values in specified columns into aggregated data (like SUM, COUNT, etc.).\n",
        "\n",
        "HAVING: Used to filter those groups after the aggregation.\n",
        "eg:  HAVING AVG(salary) > 60000 filters out groups where the average salary is 60,000 or less.\n"
      ],
      "metadata": {
        "id": "zyKlzMmbKZLq"
      }
    },
    {
      "cell_type": "code",
      "source": [
        "SELECT department, AVG(salary) AS avg_salary\n",
        "FROM employees\n",
        "GROUP BY department\n",
        "HAVING AVG(salary) > 60000;\n"
      ],
      "metadata": {
        "id": "SJqqyIIFqwOD"
      },
      "execution_count": null,
      "outputs": []
    },
    {
      "cell_type": "markdown",
      "source": [
        "5. Write a query to find duplicate records in a table.\n",
        "\n",
        "To find duplicate records, we typically use the GROUP BY clause to group rows and HAVING to filter the groups that have more than one occurrence. The query finds customers with duplicate combinations of name and email."
      ],
      "metadata": {
        "id": "vZZk6X8Nq7gF"
      }
    },
    {
      "cell_type": "code",
      "source": [
        "SELECT name, email, COUNT(*)\n",
        "FROM customers\n",
        "GROUP BY name, email\n",
        "HAVING COUNT(*) > 1;\n"
      ],
      "metadata": {
        "id": "V1yb0ZJVrBHe"
      },
      "execution_count": null,
      "outputs": []
    },
    {
      "cell_type": "markdown",
      "source": [
        "6. How do you retrieve unique values from a table using SQL?\n",
        "\n",
        " DISTINCT keyword to retrieve unique values from a table."
      ],
      "metadata": {
        "id": "Uf7RR9vqrI_8"
      }
    },
    {
      "cell_type": "code",
      "source": [
        "SELECT DISTINCT department\n",
        "FROM employees;\n"
      ],
      "metadata": {
        "id": "j0Cx3ZrVrSbB"
      },
      "execution_count": null,
      "outputs": []
    },
    {
      "cell_type": "markdown",
      "source": [
        "7. Explain the use of aggregate functions like COUNT(), SUM(), AVG(), MIN(), and MAX().\n",
        "\n",
        "COUNT(): Returns the number of rows or non-null values.\n",
        "\n",
        "SUM(): Returns the sum of a numeric column.\n",
        "\n",
        "AVG(): Returns the average value of a numeric column.\n",
        "\n",
        "MIN(): Returns the minimum value of a column.\n",
        "\n",
        "MAX(): Returns the maximum value of a column."
      ],
      "metadata": {
        "id": "GmJEZIUnrWM8"
      }
    },
    {
      "cell_type": "code",
      "source": [
        "SELECT COUNT(*) FROM employees;  -- Total number of rows\n",
        "\n",
        "SELECT SUM(salary) FROM employees;  -- Total salary of all employees\n",
        "\n",
        "SELECT AVG(salary) FROM employees;  -- Average salary of all employees\n",
        "\n",
        "SELECT MIN(salary) FROM employees;  -- Lowest salary in the company\n",
        "\n",
        "SELECT MAX(salary) FROM employees;  -- Highest salary in the company\n"
      ],
      "metadata": {
        "id": "uOAkaXjJriA9"
      },
      "execution_count": null,
      "outputs": []
    },
    {
      "cell_type": "markdown",
      "source": [
        "8. What is the purpose of a DISTINCT keyword in SQL?\n",
        "\n",
        "The DISTINCT keyword is used to remove duplicate rows from the result set. It ensures that only unique values are returned.\n",
        "\n",
        "Example:"
      ],
      "metadata": {
        "id": "Cix9Pwpdrrv2"
      }
    },
    {
      "cell_type": "code",
      "source": [
        "SELECT DISTINCT city\n",
        "FROM customers;\n"
      ],
      "metadata": {
        "id": "BGsfTsA6rxno"
      },
      "execution_count": null,
      "outputs": []
    },
    {
      "cell_type": "markdown",
      "source": [
        "Intermediate SQL:\n",
        "\n",
        "1. Write a query to find the second-highest salary from an employee table.\n",
        "\n",
        "To find the second-highest salary, we can use a subquery with MAX() or a method like ROW_NUMBER()."
      ],
      "metadata": {
        "id": "WuDcuBirsR-L"
      }
    },
    {
      "cell_type": "code",
      "source": [
        "SELECT MAX(salary) AS second_highest_salary\n",
        "FROM employees\n",
        "WHERE salary < (SELECT MAX(salary) FROM employees);\n"
      ],
      "metadata": {
        "id": "Yac_-Wl3sYr5"
      },
      "execution_count": null,
      "outputs": []
    },
    {
      "cell_type": "markdown",
      "source": [
        "This query works by first finding the maximum salary (highest salary) and then searching for the maximum salary that is less than the highest, giving us the second-highest salary.\n",
        "\n",
        "Alternatively, using ROW_NUMBER():\n",
        "This approach ranks the salaries in descending order, and then the second-highest salary is found where the rank is 2."
      ],
      "metadata": {
        "id": "bsMXtoakscaa"
      }
    },
    {
      "cell_type": "code",
      "source": [
        "WITH RankedSalaries AS (\n",
        "    SELECT salary, ROW_NUMBER() OVER (ORDER BY salary DESC) AS rank\n",
        "    FROM employees\n",
        ")\n",
        "SELECT salary\n",
        "FROM RankedSalaries\n",
        "WHERE rank = 2;\n"
      ],
      "metadata": {
        "id": "fZCU2vdEsd1D"
      },
      "execution_count": null,
      "outputs": []
    },
    {
      "cell_type": "markdown",
      "source": [
        "2. What are subqueries and how do you use them?\n",
        "\n",
        "A subquery is a query nested inside another query. It is used to perform operations that require data from multiple queries, or to filter results dynamically.\n",
        "\n",
        "Inline Subquery: Returns a single value to be used in the main query.\n",
        "Correlated Subquery: References columns from the outer query.\n",
        "\n",
        "Example (Inline Subquery): This subquery calculates the average salary and filters out employees earning less than that average."
      ],
      "metadata": {
        "id": "Zl7g3VprsnHl"
      }
    },
    {
      "cell_type": "code",
      "source": [
        "SELECT employee_name, salary\n",
        "FROM employees\n",
        "WHERE salary > (SELECT AVG(salary) FROM employees);\n"
      ],
      "metadata": {
        "id": "FkhrZ8ZCs0p-"
      },
      "execution_count": null,
      "outputs": []
    },
    {
      "cell_type": "markdown",
      "source": [
        "Example (Correlated Subquery): Here, the subquery references the outer query (e.department) to calculate the average salary within each department."
      ],
      "metadata": {
        "id": "z24HYkxfs6l6"
      }
    },
    {
      "cell_type": "code",
      "source": [
        "SELECT e.employee_name\n",
        "FROM employees e\n",
        "WHERE e.salary > (SELECT AVG(salary) FROM employees WHERE department = e.department);\n"
      ],
      "metadata": {
        "id": "a--5Pp7us_mv"
      },
      "execution_count": null,
      "outputs": []
    },
    {
      "cell_type": "markdown",
      "source": [
        "3. What is a Common Table Expression (CTE)? Give an example of when to use it.\n",
        "\n",
        "A CTE is a temporary result set that you can reference within a SELECT, INSERT, UPDATE, or DELETE statement. It simplifies complex queries and improves readability.\n",
        "\n",
        "Example:"
      ],
      "metadata": {
        "id": "EtnNflHZtGuP"
      }
    },
    {
      "cell_type": "code",
      "source": [
        "WITH DepartmentSalaries AS (\n",
        "    SELECT department, AVG(salary) AS avg_salary\n",
        "    FROM employees\n",
        "    GROUP BY department\n",
        ")\n",
        "SELECT e.employee_name, e.department, e.salary\n",
        "FROM employees e\n",
        "JOIN DepartmentSalaries ds ON e.department = ds.department\n",
        "WHERE e.salary > ds.avg_salary;\n"
      ],
      "metadata": {
        "id": "gObRfcENtSHH"
      },
      "execution_count": null,
      "outputs": []
    },
    {
      "cell_type": "markdown",
      "source": [
        "4. Explain window functions like ROW_NUMBER(), RANK(), and DENSE_RANK().\n",
        "\n",
        "Window functions perform calculations across a set of table rows that are related to the current row, without collapsing the result into a single row. They are used in analytics.\n",
        "\n",
        "ROW_NUMBER(): Assigns a unique sequential integer to rows within a partition, starting at 1.\n",
        "RANK(): Assigns a rank to rows within a partition, with gaps in rank for ties.\n",
        "\n",
        "DENSE_RANK(): Assigns ranks like RANK(), but without gaps in ranking for ties.\n",
        "\n",
        "\n",
        "Example: If two employees have the same salary, ROW_NUMBER() will give them different numbers, while RANK() will assign the same rank to both, but DENSE_RANK() will ensure there are no gaps.\n",
        "\n"
      ],
      "metadata": {
        "id": "355IUj3ntT6P"
      }
    },
    {
      "cell_type": "code",
      "source": [
        "SELECT employee_name, salary, ROW_NUMBER() OVER (ORDER BY salary DESC) AS row_num,\n",
        "       RANK() OVER (ORDER BY salary DESC) AS rank,\n",
        "       DENSE_RANK() OVER (ORDER BY salary DESC) AS dense_rank\n",
        "FROM employees;\n"
      ],
      "metadata": {
        "id": "WRpOEtRvtaRy"
      },
      "execution_count": null,
      "outputs": []
    },
    {
      "cell_type": "markdown",
      "source": [
        "5. How do you combine results of two queries using UNION and UNION ALL?\n",
        "\n",
        "UNION: Combines results of two queries and removes duplicates.\n",
        "\n",
        "UNION ALL: Combines results and keeps all duplicates.\n",
        "\n",
        "In the UNION query, if an employee appears in both departments, they will appear only once. With UNION ALL, duplicates are allowed."
      ],
      "metadata": {
        "id": "QMxShZwvtsEG"
      }
    },
    {
      "cell_type": "code",
      "source": [
        "-- Using UNION (removes duplicates)\n",
        "SELECT employee_name FROM employees WHERE department = 'HR'\n",
        "UNION\n",
        "SELECT employee_name FROM employees WHERE department = 'IT';\n",
        "\n",
        "-- Using UNION ALL (keeps duplicates)\n",
        "SELECT employee_name FROM employees WHERE department = 'HR'\n",
        "UNION ALL\n",
        "SELECT employee_name FROM employees WHERE department = 'IT';\n"
      ],
      "metadata": {
        "id": "RK6O2htwtzsG"
      },
      "execution_count": null,
      "outputs": []
    },
    {
      "cell_type": "markdown",
      "source": [
        "6. What are indexes in SQL, and how do they improve query performance?\n",
        "\n",
        "An index is a database object that improves the speed of data retrieval operations on a table. It works like a book's index, allowing you to quickly locate data without scanning the entire table.\n",
        "\n",
        "Unique Index: Ensures that the indexed column has unique values.\n",
        "\n",
        "Non-Unique Index: Does not enforce uniqueness.\n",
        "Composite Index: An index on multiple columns.\n",
        "Example:"
      ],
      "metadata": {
        "id": "UkFDs2hht0eV"
      }
    },
    {
      "cell_type": "code",
      "source": [
        "CREATE INDEX idx_salary ON employees(salary);\n"
      ],
      "metadata": {
        "id": "s6YDox_ht8VM"
      },
      "execution_count": null,
      "outputs": []
    },
    {
      "cell_type": "markdown",
      "source": [
        "7. Write a query to calculate the total sales for each month using GROUP BY.\n",
        "\n",
        "To calculate total sales by month, we would typically extract the month from the date and group by it.\n",
        "\n",
        "Example:"
      ],
      "metadata": {
        "id": "Q_9utG2Xt-dY"
      }
    },
    {
      "cell_type": "code",
      "source": [
        "SELECT YEAR(sale_date) AS year, MONTH(sale_date) AS month, SUM(amount) AS total_sales\n",
        "FROM sales\n",
        "GROUP BY YEAR(sale_date), MONTH(sale_date)\n",
        "ORDER BY year, month;\n"
      ],
      "metadata": {
        "id": "JLdi9OmhuApf"
      },
      "execution_count": null,
      "outputs": []
    },
    {
      "cell_type": "markdown",
      "source": [
        "Advanced SQL:\n",
        "\n",
        "1. How do you optimize a slow-running SQL query?\n",
        "\n",
        "Indexes: Create indexes on columns that are frequently used in WHERE, JOIN, or ORDER BY.\n",
        "*Avoid SELECT : Select only the columns you need.\n",
        "\n",
        "Avoid Subqueries: If possible, replace subqueries with JOIN.\n",
        "\n",
        "Limit Rows: Use LIMIT or TOP to reduce the number of rows processed.\n",
        "\n",
        "Analyze Execution Plan: Use EXPLAIN to check how the query is being executed and optimize accordingly.\n",
        "Example:"
      ],
      "metadata": {
        "id": "pO_0N5etuNHt"
      }
    },
    {
      "cell_type": "code",
      "source": [
        "EXPLAIN SELECT employee_name, salary FROM employees WHERE department = 'IT' ORDER BY salary DESC;\n"
      ],
      "metadata": {
        "id": "P6AO0fGxuX5E"
      },
      "execution_count": null,
      "outputs": []
    },
    {
      "cell_type": "markdown",
      "source": [
        "2. What are views in SQL, and when would you use them?\n",
        "\n",
        "A view is a virtual table that provides a simplified or more focused subset of data from one or more tables. Views are used to simplify complex queries, encapsulate business logic, or provide a security layer by restricting access to certain columns.\n",
        "\n",
        "Example:"
      ],
      "metadata": {
        "id": "79xM7RWXunNA"
      }
    },
    {
      "cell_type": "code",
      "source": [
        "CREATE VIEW IT_Employees AS\n",
        "SELECT employee_name, salary\n",
        "FROM employees\n",
        "WHERE department = 'IT';\n",
        "\n",
        "\n",
        "SELECT * FROM IT_Employees;\n"
      ],
      "metadata": {
        "id": "8Ft2y_nAup5K"
      },
      "execution_count": null,
      "outputs": []
    },
    {
      "cell_type": "markdown",
      "source": [
        "3. What is the difference between a stored procedure and a function in SQL?\n",
        "\n",
        "Stored Procedure: A collection of SQL statements that can be executed as a unit. It can perform operations like inserts, updates, and deletes, and can return multiple result sets.\n",
        "\n",
        "Function: Similar to a stored procedure, but it must return a single value (scalar) or a table. It is used in SQL expressions (e.g., SELECT).\n",
        "\n",
        "Example:\n",
        "\n",
        "Stored Procedure:\n",
        "\n"
      ],
      "metadata": {
        "id": "YF6W70Dyuuau"
      }
    },
    {
      "cell_type": "code",
      "source": [
        "CREATE PROCEDURE GetEmployeeDetails (@emp_id INT)\n",
        "AS\n",
        "BEGIN\n",
        "    SELECT * FROM employees WHERE employee_id = @emp_id;\n",
        "END;\n"
      ],
      "metadata": {
        "id": "n8r0f6cKuyQj"
      },
      "execution_count": null,
      "outputs": []
    },
    {
      "cell_type": "markdown",
      "source": [
        "Function:"
      ],
      "metadata": {
        "id": "Dnp1w9ENu0HT"
      }
    },
    {
      "cell_type": "code",
      "source": [
        "CREATE FUNCTION GetEmployeeSalary (@emp_id INT)\n",
        "RETURNS DECIMAL(10, 2)\n",
        "AS\n",
        "BEGIN\n",
        "    RETURN (SELECT salary FROM employees WHERE employee_id = @emp_id);\n",
        "END;\n"
      ],
      "metadata": {
        "id": "F4M5n277u1qQ"
      },
      "execution_count": null,
      "outputs": []
    },
    {
      "cell_type": "markdown",
      "source": [
        "4. Explain the difference between TRUNCATE, DELETE, and DROP commands.\n",
        "\n",
        "TRUNCATE: Removes all rows from a table, but does not log individual row deletions and cannot be rolled back in some systems.\n",
        "\n",
        "DELETE: Removes rows based on a condition, and the operation is logged. It can be rolled back.\n",
        "DROP: Removes a table or other object (like a view or index) from the database.\n",
        "\n",
        "Example:\n",
        "\n"
      ],
      "metadata": {
        "id": "TXVosKNFu6xV"
      }
    },
    {
      "cell_type": "code",
      "source": [
        "TRUNCATE TABLE employees;\n",
        "DELETE FROM employees WHERE employee_id = 5;\n",
        "DROP TABLE employees;\n"
      ],
      "metadata": {
        "id": "PrQh0gkmu_En"
      },
      "execution_count": null,
      "outputs": []
    },
    {
      "cell_type": "markdown",
      "source": [
        "5. What are windowing functions, and how are they used in analytics?\n",
        "\n",
        "Window functions perform calculations across a set of rows related to the current row. They are useful in analytics for tasks like ranking, cumulative totals, moving averages, etc.\n",
        "\n",
        "Example:\n",
        "This gives a running total of salaries ordered from highest to lowest."
      ],
      "metadata": {
        "id": "Dsj4VauFvBp9"
      }
    },
    {
      "cell_type": "code",
      "source": [
        "SELECT employee_name, salary, SUM(salary) OVER (ORDER BY salary DESC) AS cumulative_salary\n",
        "FROM employees;\n"
      ],
      "metadata": {
        "id": "ED2LsJFXvECA"
      },
      "execution_count": null,
      "outputs": []
    },
    {
      "cell_type": "markdown",
      "source": [
        "6. How do you use PARTITION BY and ORDER BY in window functions?\n",
        "\n",
        "PARTITION BY divides the result set into partitions (groups).\n",
        "\n",
        "ORDER BY orders rows within each partition.\n"
      ],
      "metadata": {
        "id": "bT3HPIgbvN2s"
      }
    },
    {
      "cell_type": "code",
      "source": [
        "SELECT employee_name, department, salary, RANK() OVER (PARTITION BY department ORDER BY salary DESC) AS department_rank\n",
        "FROM employees;\n"
      ],
      "metadata": {
        "id": "JsakQlO0vQ6x"
      },
      "execution_count": null,
      "outputs": []
    },
    {
      "cell_type": "markdown",
      "source": [
        "7. How do you handle NULL values in SQL, and what functions help with that (e.g., COALESCE, ISNULL)?\n",
        "\n",
        "COALESCE(): Returns the first non-NULL value in a list.\n",
        "\n",
        "ISNULL(): Replaces NULL with a specified value.\n",
        "\n",
        "COALESCE Example: Replaces NULL phone numbers with \"No phone number.\""
      ],
      "metadata": {
        "id": "R-YS4uzHvU8U"
      }
    },
    {
      "cell_type": "code",
      "source": [
        "SELECT employee_name, COALESCE(phone_number, 'No phone number') AS phone_number\n",
        "FROM employees;\n"
      ],
      "metadata": {
        "id": "UWUlVHGHvcNK"
      },
      "execution_count": null,
      "outputs": []
    },
    {
      "cell_type": "markdown",
      "source": [
        "ISNULL Example: Replaces NULL salaries with 0."
      ],
      "metadata": {
        "id": "0fGyw3W3vn-k"
      }
    },
    {
      "cell_type": "code",
      "source": [
        "SELECT ISNULL(salary, 0) AS salary FROM employees;\n"
      ],
      "metadata": {
        "id": "zzF1oEEjvtoU"
      },
      "execution_count": null,
      "outputs": []
    },
    {
      "cell_type": "markdown",
      "source": [
        "LAG() Function:\n",
        "\n",
        "The LAG() function returns the value of a specified expression from a previous row within the same result set.\n",
        "\n",
        "\n",
        "Syntax:\n",
        "\n",
        "LAG(expression, offset, default) OVER (PARTITION BY partition_column ORDER BY order_column)\n",
        "\n",
        "expression: Column or value you want to retrieve.\n",
        "\n",
        "offset: Number of rows back to look (defaults to 1).\n",
        "\n",
        "default: Value to return if no previous row exists (defaults to NULL).\n",
        "\n",
        "PARTITION BY: Divides the rows into groups (optional).\n",
        "\n",
        "ORDER BY: Defines the order of rows.\n",
        "\n",
        "Example:\n",
        "You have a table of sales with sale_date and amount, and you want to compare each day's sales to the previous day’s sales:\n",
        "\n",
        "The LAG(amount, 1) function shows the sales from the previous day. For the first row, there is no previous data, so it returns NULL."
      ],
      "metadata": {
        "id": "9fxQyvhMwFQA"
      }
    },
    {
      "cell_type": "code",
      "source": [
        "SELECT sale_date,\n",
        "       amount,\n",
        "       LAG(amount, 1) OVER (ORDER BY sale_date) AS previous_day_sales\n",
        "FROM sales;\n"
      ],
      "metadata": {
        "id": "B_OShgKqwQ_i"
      },
      "execution_count": null,
      "outputs": []
    },
    {
      "cell_type": "markdown",
      "source": [
        "LEAD() Function:\n",
        "\n",
        "The LEAD() function returns the value of a specified expression from a subsequent row in the result set.\n",
        "\n",
        "Syntax:\n",
        "\n",
        "LEAD(expression, offset, default) OVER (PARTITION BY partition_column ORDER BY order_column)\n",
        "\n",
        "expression: Column or value to retrieve from the next row.\n",
        "\n",
        "offset: Number of rows ahead to look (defaults to 1).\n",
        "\n",
        "default: Value to return if no next row exists (defaults to NULL).\n",
        "\n",
        "PARTITION BY: Divides the rows into groups (optional).\n",
        "\n",
        "ORDER BY: Defines the order of rows.\n",
        "\n",
        "Example:\n",
        "If you want to compare each day's sales to the next day's sales:\n",
        "\n",
        "The LEAD(amount, 1) function shows the sales for the next day. For the last row, there is no next day, so it returns NULL.\n"
      ],
      "metadata": {
        "id": "VEfSKNNjwXM7"
      }
    },
    {
      "cell_type": "code",
      "source": [
        "SELECT sale_date,\n",
        "       amount,\n",
        "       LEAD(amount, 1) OVER (ORDER BY sale_date) AS next_day_sales\n",
        "FROM sales;\n"
      ],
      "metadata": {
        "id": "Cr_kkYlewl40"
      },
      "execution_count": null,
      "outputs": []
    },
    {
      "cell_type": "markdown",
      "source": [
        "Linux:\n",
        "Linux is an open-source, Unix-like operating system kernel that forms the foundation of various Linux distributions (distros). It was created by Linus Torvalds in 1991. It’s widely used in servers, desktops, and embedded systems."
      ],
      "metadata": {
        "id": "lThChtcoMxZM"
      }
    },
    {
      "cell_type": "markdown",
      "source": [
        "Linux follows the Filesystem Hierarchy Standard (FHS), which defines the directory structure and contents. Some key directories include:\n",
        "\n",
        "1. /: The root directory, the starting point of the file system.\n",
        "\n",
        "2. /bin: Essential binary executables (commands).\n",
        "\n",
        "3. /etc: Configuration files for system-wide settings.\n",
        "\n",
        "4. /home: Home directories for regular users.\n",
        "\n",
        "5. /var: Variable files such as logs and spool files.\n",
        "\n",
        "6. /tmp: Temporary files.\n",
        "\n",
        "7. /usr: User programs, libraries, and documentation.\n",
        "\n",
        "8. /dev: Device files (e.g., hard drives, terminals).\n",
        "\n",
        "9. /proc: Virtual files that provide system information (e.g., process information)."
      ],
      "metadata": {
        "id": "olyhfHYYQgxh"
      }
    },
    {
      "cell_type": "markdown",
      "source": [
        "check the Linux version:\n",
        "\n",
        "1. Shows detailed information about the kernel.\n"
      ],
      "metadata": {
        "id": "Iz8B7-brNE9U"
      }
    },
    {
      "cell_type": "code",
      "source": [
        "uname -a\n"
      ],
      "metadata": {
        "id": "mjv57gdONRs8"
      },
      "execution_count": null,
      "outputs": []
    },
    {
      "cell_type": "markdown",
      "source": [
        "2. Shows detailed information about the specific distribution and version."
      ],
      "metadata": {
        "id": "oCz6UhFENSeq"
      }
    },
    {
      "cell_type": "code",
      "source": [
        "cat /etc/os-release\n"
      ],
      "metadata": {
        "id": "wd2Z-YnJNVY5"
      },
      "execution_count": null,
      "outputs": []
    },
    {
      "cell_type": "markdown",
      "source": [
        "Difference between a file and a directory:\n",
        "File: A file is a container that holds data. It can be a text file, an image file, or any other type of data.\n",
        "\n",
        "Directory: A directory is a container that holds files and other directories (subdirectories)."
      ],
      "metadata": {
        "id": "FUPgX_6MNYPr"
      }
    },
    {
      "cell_type": "markdown",
      "source": [
        "Basic Linux file operations:"
      ],
      "metadata": {
        "id": "WbiCpou-NdGW"
      }
    },
    {
      "cell_type": "markdown",
      "source": [
        "1. List files in a directory"
      ],
      "metadata": {
        "id": "poU9VbhQNfJm"
      }
    },
    {
      "cell_type": "code",
      "source": [
        "ls\n"
      ],
      "metadata": {
        "id": "M5dhCPWMNldA"
      },
      "execution_count": null,
      "outputs": []
    },
    {
      "cell_type": "markdown",
      "source": [
        "2. Change directory"
      ],
      "metadata": {
        "id": "6ygbo4C7NjAt"
      }
    },
    {
      "cell_type": "code",
      "source": [
        "cd /path/to/directory\n"
      ],
      "metadata": {
        "id": "2ZLsX-1TNmMG"
      },
      "execution_count": null,
      "outputs": []
    },
    {
      "cell_type": "markdown",
      "source": [
        "3. Create a new file"
      ],
      "metadata": {
        "id": "xrUjmXewNonD"
      }
    },
    {
      "cell_type": "code",
      "source": [
        "touch filename.txt\n"
      ],
      "metadata": {
        "id": "Vob6mhhjNqC-"
      },
      "execution_count": null,
      "outputs": []
    },
    {
      "cell_type": "markdown",
      "source": [
        "4. Create a new directory\n"
      ],
      "metadata": {
        "id": "FWcoJTC1NrxZ"
      }
    },
    {
      "cell_type": "code",
      "source": [
        "mkdir directoryname\n"
      ],
      "metadata": {
        "id": "m_6nD0xuNt3z"
      },
      "execution_count": null,
      "outputs": []
    },
    {
      "cell_type": "markdown",
      "source": [
        "5. Remove a file"
      ],
      "metadata": {
        "id": "nqfGonxDNv_e"
      }
    },
    {
      "cell_type": "code",
      "source": [
        "rm filename.txt\n"
      ],
      "metadata": {
        "id": "bxvCT2ggNxQs"
      },
      "execution_count": null,
      "outputs": []
    },
    {
      "cell_type": "markdown",
      "source": [
        "6. Remove a directory"
      ],
      "metadata": {
        "id": "MKgzqOGEN3Iv"
      }
    },
    {
      "cell_type": "code",
      "source": [
        "rmdir directoryname\n"
      ],
      "metadata": {
        "id": "KcVTX-AnNy5Z"
      },
      "execution_count": null,
      "outputs": []
    },
    {
      "cell_type": "markdown",
      "source": [
        "Check disk usage:\n",
        "\n",
        "df: Shows disk space usage for all mounted filesystems.\n",
        "\n",
        "-h option makes the output human-readable (e.g., GB, MB).\n",
        "\n",
        "du: Shows disk usage of files and directories.\n",
        "\n",
        "-s gives the summary and -h makes it human-readable.\n",
        "\n"
      ],
      "metadata": {
        "id": "hbzhKhpJOH9C"
      }
    },
    {
      "cell_type": "code",
      "source": [
        "df -h\n",
        "du -sh /path/to/directory\n"
      ],
      "metadata": {
        "id": "j7dskq8jOSdb"
      },
      "execution_count": null,
      "outputs": []
    },
    {
      "cell_type": "markdown",
      "source": [
        "find: Search for files in a directory hierarchy.\n",
        "\n",
        "locate: Find files using a pre-built database (faster but may be outdated unless regularly updated)."
      ],
      "metadata": {
        "id": "1PB0xm5ZOYPO"
      }
    },
    {
      "cell_type": "code",
      "source": [
        "find /path/to/search -name filename\n",
        "\n",
        "locate filename\n"
      ],
      "metadata": {
        "id": "ZDPSXBhpOaQp"
      },
      "execution_count": null,
      "outputs": []
    },
    {
      "cell_type": "markdown",
      "source": [
        "Running processes:\n",
        "\n",
        "ps: Shows the current processes.\n",
        "\n",
        "top: Shows a real-time view of system processes and resource usage.\n",
        "\n",
        "htop: A more user-friendly, interactive version of top (requires installation)."
      ],
      "metadata": {
        "id": "AoHiIsKMOh2k"
      }
    },
    {
      "cell_type": "code",
      "source": [
        "ps aux\n",
        "\n",
        "top\n",
        "\n",
        "htop\n"
      ],
      "metadata": {
        "id": "3h-btr36OqcD"
      },
      "execution_count": null,
      "outputs": []
    },
    {
      "cell_type": "markdown",
      "source": [
        "Manage packages:\n",
        "\n",
        "On Debian-based systems (like Ubuntu):\n",
        "\n",
        "1. Update package list"
      ],
      "metadata": {
        "id": "lFzy0UWZO7ok"
      }
    },
    {
      "cell_type": "code",
      "source": [
        "sudo apt update\n"
      ],
      "metadata": {
        "id": "6SB0ybpIPBb7"
      },
      "execution_count": null,
      "outputs": []
    },
    {
      "cell_type": "markdown",
      "source": [
        "2. Install a package"
      ],
      "metadata": {
        "id": "aIqDnfe6PDW4"
      }
    },
    {
      "cell_type": "code",
      "source": [
        "sudo apt install package-name\n"
      ],
      "metadata": {
        "id": "MKaP0lh0PFGz"
      },
      "execution_count": null,
      "outputs": []
    },
    {
      "cell_type": "markdown",
      "source": [
        "3. Remove a package"
      ],
      "metadata": {
        "id": "EqVhyQgfPHA8"
      }
    },
    {
      "cell_type": "code",
      "source": [
        "sudo apt remove package-name\n"
      ],
      "metadata": {
        "id": "ia2WIa-SPJg1"
      },
      "execution_count": null,
      "outputs": []
    },
    {
      "cell_type": "markdown",
      "source": [
        "4. Upgrade all packages"
      ],
      "metadata": {
        "id": "L0yXeBdXPMUh"
      }
    },
    {
      "cell_type": "code",
      "source": [
        "sudo apt upgrade\n"
      ],
      "metadata": {
        "id": "z4dh-w-nPOjP"
      },
      "execution_count": null,
      "outputs": []
    },
    {
      "cell_type": "markdown",
      "source": [
        "Set file permissions:\n",
        "1. chmod: Changes the permissions of a file or directory.\n",
        "2. r: read, w: write, x: execute\n",
        "3. Permissions can be set numerically (e.g., 755) or symbolically (e.g., u+x).\n",
        "Example:\n",
        "\n"
      ],
      "metadata": {
        "id": "aCILTJcGPUDl"
      }
    },
    {
      "cell_type": "code",
      "source": [
        "chmod 755 filename.txt\n"
      ],
      "metadata": {
        "id": "bYKRR74zPYZb"
      },
      "execution_count": null,
      "outputs": []
    },
    {
      "cell_type": "markdown",
      "source": [
        "Difference between sudo and su:\n",
        "1. sudo: Stands for \"Super User DO\". It runs a command with superuser (root) privileges, without changing the user context permanently. Example:\n",
        "\n",
        "sudo apt update\n",
        "\n",
        "2. su: Stands for \"Substitute User\". It switches the current user to another user, commonly used to switch to the root user. Example:\n",
        "\n",
        "su"
      ],
      "metadata": {
        "id": "fSA9K0IPPcvD"
      }
    },
    {
      "cell_type": "markdown",
      "source": [
        "Memory usage:\n",
        "free: Shows memory usage.\n"
      ],
      "metadata": {
        "id": "WhZaXBFpPnyE"
      }
    },
    {
      "cell_type": "code",
      "source": [
        "free -h\n"
      ],
      "metadata": {
        "id": "TLaVwUB1Pr5m"
      },
      "execution_count": null,
      "outputs": []
    },
    {
      "cell_type": "markdown",
      "source": [
        "vmstat: Shows memory and system performance stats.\n"
      ],
      "metadata": {
        "id": "LnVyyGkQPuBS"
      }
    },
    {
      "cell_type": "code",
      "source": [
        "vmstat\n"
      ],
      "metadata": {
        "id": "hAnjfFxvPwA6"
      },
      "execution_count": null,
      "outputs": []
    },
    {
      "cell_type": "markdown",
      "source": [
        "Creates a symbolic (soft) link:"
      ],
      "metadata": {
        "id": "-7pzYJ4SPzrf"
      }
    },
    {
      "cell_type": "code",
      "source": [
        "ln -s /path/to/target /path/to/link\n"
      ],
      "metadata": {
        "id": "91YZDr3BP1ZJ"
      },
      "execution_count": null,
      "outputs": []
    },
    {
      "cell_type": "markdown",
      "source": [
        "Schedule a one-time task. Example to run a command at 3 PM:"
      ],
      "metadata": {
        "id": "2tS0R8YuP35z"
      }
    },
    {
      "cell_type": "code",
      "source": [
        "echo \"command\" | at 3:00 PM\n"
      ],
      "metadata": {
        "id": "uUrTYSu3P6do"
      },
      "execution_count": null,
      "outputs": []
    },
    {
      "cell_type": "markdown",
      "source": [
        "cron: Schedule recurring tasks (e.g., backups).\n",
        "\n",
        "1. Edit the crontab:"
      ],
      "metadata": {
        "id": "3pelYb92P-NN"
      }
    },
    {
      "cell_type": "code",
      "source": [
        "crontab -e\n"
      ],
      "metadata": {
        "id": "S-98gajSQDJF"
      },
      "execution_count": null,
      "outputs": []
    },
    {
      "cell_type": "markdown",
      "source": [
        "2. Example to run a script every day at 5 AM:"
      ],
      "metadata": {
        "id": "VKYR_ekyQGS7"
      }
    },
    {
      "cell_type": "code",
      "source": [
        "0 5 * * * /path/to/script.sh\n"
      ],
      "metadata": {
        "id": "WQVVuo4fQIIb"
      },
      "execution_count": null,
      "outputs": []
    },
    {
      "cell_type": "markdown",
      "source": [
        "Shut down the system\n",
        "\n"
      ],
      "metadata": {
        "id": "FeS6n97OQKdW"
      }
    },
    {
      "cell_type": "code",
      "source": [
        "sudo shutdown -h now\n"
      ],
      "metadata": {
        "id": "hMZYklVFQMbH"
      },
      "execution_count": null,
      "outputs": []
    },
    {
      "cell_type": "markdown",
      "source": [
        "Restart the system"
      ],
      "metadata": {
        "id": "DgVFaGhkQNH6"
      }
    },
    {
      "cell_type": "code",
      "source": [
        "sudo reboot\n"
      ],
      "metadata": {
        "id": "scphPjg4QPno"
      },
      "execution_count": null,
      "outputs": []
    },
    {
      "cell_type": "markdown",
      "source": [
        "The grep command is used to search for specific patterns in a file or output.\n",
        "\n",
        "Example:\n",
        "Search for the word \"error\" in a log file:"
      ],
      "metadata": {
        "id": "xTRrv4Z9QSxq"
      }
    },
    {
      "cell_type": "code",
      "source": [
        "grep \"error\" /var/log/syslog\n"
      ],
      "metadata": {
        "id": "is7ghCDPQUtX"
      },
      "execution_count": null,
      "outputs": []
    }
  ]
}